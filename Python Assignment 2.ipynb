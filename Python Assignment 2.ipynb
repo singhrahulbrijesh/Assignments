{
  "nbformat": 4,
  "nbformat_minor": 0,
  "metadata": {
    "colab": {
      "provenance": []
    },
    "kernelspec": {
      "name": "python3",
      "display_name": "Python 3"
    },
    "language_info": {
      "name": "python"
    }
  },
  "cells": [
    {
      "cell_type": "code",
      "execution_count": 1,
      "metadata": {
        "colab": {
          "base_uri": "https://localhost:8080/"
        },
        "id": "0dAHmsbVTCx0",
        "outputId": "b7ef3b4d-4c37-4a94-b40b-ed0eb1f54ad8"
      },
      "outputs": [
        {
          "output_type": "stream",
          "name": "stdout",
          "text": [
            "* \n",
            "* * \n",
            "* * * \n",
            "* * * * \n",
            "* * * * * \n",
            "* * * * \n",
            "* * * \n",
            "* * \n",
            "* \n"
          ]
        }
      ],
      "source": [
        "# Function to print the pattern\n",
        "def print_pattern(n):\n",
        "    # Print the top half of the pattern\n",
        "    for i in range(1, n + 1):\n",
        "        print('* ' * i)\n",
        "\n",
        "    # Print the bottom half of the pattern\n",
        "    for i in range(n - 1, 0, -1):\n",
        "        print('* ' * i)\n",
        "\n",
        "# Set the number of rows for the pattern\n",
        "n = 5\n",
        "print_pattern(n)\n"
      ]
    },
    {
      "cell_type": "code",
      "source": [
        "# Function to reverse a given word\n",
        "def reverse_word(word):\n",
        "    return word[::-1]\n",
        "\n",
        "# Accept input from the user\n",
        "input_word = input(\"Input word: \")\n",
        "\n",
        "# Reverse the word\n",
        "output_word = reverse_word(input_word)\n",
        "\n",
        "# Display the output\n",
        "print(\"Output:\", output_word)\n"
      ],
      "metadata": {
        "colab": {
          "base_uri": "https://localhost:8080/"
        },
        "id": "LznE_D4NTGB7",
        "outputId": "86fbf1bb-0f6a-455b-f6b5-c4539e2b0326"
      },
      "execution_count": 3,
      "outputs": [
        {
          "output_type": "stream",
          "name": "stdout",
          "text": [
            "Input word: 1 2 3\n",
            "Output: 3 2 1\n"
          ]
        }
      ]
    },
    {
      "cell_type": "code",
      "source": [],
      "metadata": {
        "id": "6HDmRkHyTNmr"
      },
      "execution_count": null,
      "outputs": []
    }
  ]
}