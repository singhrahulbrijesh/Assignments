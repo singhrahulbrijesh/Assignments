{
  "nbformat": 4,
  "nbformat_minor": 0,
  "metadata": {
    "colab": {
      "provenance": []
    },
    "kernelspec": {
      "name": "python3",
      "display_name": "Python 3"
    },
    "language_info": {
      "name": "python"
    }
  },
  "cells": [
    {
      "cell_type": "code",
      "execution_count": 1,
      "metadata": {
        "colab": {
          "base_uri": "https://localhost:8080/"
        },
        "id": "CIZ-lgOvn0OF",
        "outputId": "16a61116-818d-4585-d67a-bdf1042cfac0"
      },
      "outputs": [
        {
          "output_type": "stream",
          "name": "stdout",
          "text": [
            "Problem 1: Z-Score: 3.2\n",
            "Problem 1: P-Value: 0.0006871379379158604\n"
          ]
        }
      ],
      "source": [
        "import math\n",
        "from scipy import stats\n",
        "\n",
        "# Given data\n",
        "mu = 100  # population mean\n",
        "sigma = 15  # population standard deviation\n",
        "n = 36  # sample size\n",
        "sample_mean = 108  # sample mean\n",
        "\n",
        "# Calculate the z-score\n",
        "z_score = (sample_mean - mu) / (sigma / math.sqrt(n))\n",
        "\n",
        "# Calculate the p-value for a one-tailed test\n",
        "p_value = 1 - stats.norm.cdf(z_score)\n",
        "\n",
        "print(\"Problem 1: Z-Score:\", z_score)\n",
        "print(\"Problem 1: P-Value:\", p_value)\n"
      ]
    },
    {
      "cell_type": "code",
      "source": [
        "# Given data\n",
        "p1 = 0.52  # proportion of Republicans in the first state\n",
        "p2 = 0.47  # proportion of Republicans in the second state\n",
        "n1 = 100  # sample size for the first state\n",
        "n2 = 100  # sample size for the second state\n",
        "\n",
        "# Calculate the standard error for the difference between proportions\n",
        "std_error = math.sqrt((p1 * (1 - p1) / n1) + (p2 * (1 - p2) / n2))\n",
        "\n",
        "# Calculate the z-score for the difference in proportions\n",
        "z_diff = (p2 - p1) / std_error\n",
        "\n",
        "# Calculate the probability\n",
        "probability_diff = stats.norm.cdf(z_diff)\n",
        "\n",
        "print(\"Problem 2: Z-Score for Difference:\", z_diff)\n",
        "print(\"Problem 2: Probability:\", probability_diff)\n"
      ],
      "metadata": {
        "colab": {
          "base_uri": "https://localhost:8080/"
        },
        "id": "-g3EjHaRn3l3",
        "outputId": "a88df003-157e-4ac2-8c67-438efbf21626"
      },
      "execution_count": 2,
      "outputs": [
        {
          "output_type": "stream",
          "name": "stdout",
          "text": [
            "Problem 2: Z-Score for Difference: -0.7080278164104213\n",
            "Problem 2: Probability: 0.23946399182220013\n"
          ]
        }
      ]
    },
    {
      "cell_type": "code",
      "source": [
        "# Given data\n",
        "sat_mean = 1026  # mean SAT score\n",
        "sat_std = 209  # standard deviation of SAT scores\n",
        "your_score = 1100  # your SAT score\n",
        "\n",
        "# Calculate the z-score for your SAT score\n",
        "z_sat = (your_score - sat_mean) / sat_std\n",
        "\n",
        "# Find the percentile (how well you did compared to the average test taker)\n",
        "percentile = stats.norm.cdf(z_sat) * 100\n",
        "\n",
        "print(\"Problem 3: Z-Score:\", z_sat)\n",
        "print(\"Problem 3: Percentile:\", percentile)\n"
      ],
      "metadata": {
        "colab": {
          "base_uri": "https://localhost:8080/"
        },
        "id": "aL5XsaWSoB3g",
        "outputId": "bbb4719b-b104-49c8-b1bf-b399201cec25"
      },
      "execution_count": 3,
      "outputs": [
        {
          "output_type": "stream",
          "name": "stdout",
          "text": [
            "Problem 3: Z-Score: 0.35406698564593303\n",
            "Problem 3: Percentile: 63.835565843531896\n"
          ]
        }
      ]
    },
    {
      "cell_type": "code",
      "source": [],
      "metadata": {
        "id": "v7j_H-QDoEEB"
      },
      "execution_count": null,
      "outputs": []
    }
  ]
}