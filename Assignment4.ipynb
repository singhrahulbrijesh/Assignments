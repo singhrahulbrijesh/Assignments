{
  "nbformat": 4,
  "nbformat_minor": 0,
  "metadata": {
    "colab": {
      "provenance": []
    },
    "kernelspec": {
      "name": "python3",
      "display_name": "Python 3"
    },
    "language_info": {
      "name": "python"
    }
  },
  "cells": [
    {
      "cell_type": "code",
      "source": [
        "class Triangle:\n",
        "    def __init__(self, a, b, c):\n",
        "        self.a = a\n",
        "        self.b = b\n",
        "        self.c = c\n",
        "\n",
        "    def input_sides(self):\n",
        "        self.a = float(input(\"Enter the length of side a: \"))\n",
        "        self.b = float(input(\"Enter the length of side b: \"))\n",
        "        self.c = float(input(\"Enter the length of side c: \"))\n",
        "\n",
        "class Area(Triangle):\n",
        "    def calculate_area(self):\n",
        "        # Semi-perimeter\n",
        "        s = (self.a + self.b + self.c) / 2\n",
        "        # Area calculation using Heron's formula\n",
        "        area = (s * (s - self.a) * (s - self.b) * (s - self.c)) ** 0.5\n",
        "        return area\n",
        "\n",
        "# Example usage\n",
        "triangle = Area(0, 0, 0)\n",
        "triangle.input_sides()\n",
        "print(f\"The area of the triangle is: {triangle.calculate_area()}\")\n"
      ],
      "metadata": {
        "colab": {
          "base_uri": "https://localhost:8080/"
        },
        "id": "kvXNwjc4YZLA",
        "outputId": "074a2023-f31d-4b99-f823-0c7862761246"
      },
      "execution_count": 16,
      "outputs": [
        {
          "output_type": "stream",
          "name": "stdout",
          "text": [
            "Enter the length of side a: 3\n",
            "Enter the length of side b: 4\n",
            "Enter the length of side c: 5\n",
            "The area of the triangle is: 6.0\n"
          ]
        }
      ]
    },
    {
      "cell_type": "code",
      "source": [
        "def filter_long_words(words, n):\n",
        "    return [word for word in words if len(word) > n]\n",
        "\n",
        "# Example usage\n",
        "words = [\"apple\", \"banana\", \"cherry\", \"date\", \"elderberry\"]\n",
        "n = 5\n",
        "print(filter_long_words(words, n))  # Output: ['banana', 'cherry', 'elderberry']\n"
      ],
      "metadata": {
        "colab": {
          "base_uri": "https://localhost:8080/"
        },
        "id": "z5429ke0YaJO",
        "outputId": "35cb9ff8-b57c-4391-e32a-06a655860ac6"
      },
      "execution_count": 17,
      "outputs": [
        {
          "output_type": "stream",
          "name": "stdout",
          "text": [
            "['banana', 'cherry', 'elderberry']\n"
          ]
        }
      ]
    },
    {
      "cell_type": "code",
      "source": [
        "def word_lengths(words):\n",
        "    return [len(word) for word in words]\n",
        "\n",
        "words = [\"ab\", \"cde\", \"erty\"]\n",
        "print(word_lengths(words))\n"
      ],
      "metadata": {
        "colab": {
          "base_uri": "https://localhost:8080/"
        },
        "id": "4YTlTXlHYd1u",
        "outputId": "9b89ada3-a4f7-4410-b7c5-c5d52ba664a9"
      },
      "execution_count": 19,
      "outputs": [
        {
          "output_type": "stream",
          "name": "stdout",
          "text": [
            "[2, 3, 4]\n"
          ]
        }
      ]
    },
    {
      "cell_type": "code",
      "source": [
        "def is_vowel(char):\n",
        "    vowels = \"aeiouAEIOU\"\n",
        "    return char in vowels\n",
        "\n",
        "# Example usage\n",
        "char = 'a'\n",
        "print(is_vowel(char))  # Output: True\n",
        "\n",
        "char = 'b'\n",
        "print(is_vowel(char))  # Output: False\n"
      ],
      "metadata": {
        "colab": {
          "base_uri": "https://localhost:8080/"
        },
        "id": "K4fRO4ANYffu",
        "outputId": "57d47ac7-82bf-4b6b-91f0-6afd07f3ac8f"
      },
      "execution_count": 20,
      "outputs": [
        {
          "output_type": "stream",
          "name": "stdout",
          "text": [
            "True\n",
            "False\n"
          ]
        }
      ]
    },
    {
      "cell_type": "code",
      "source": [],
      "metadata": {
        "id": "Drhvo-ksYyKY"
      },
      "execution_count": null,
      "outputs": []
    }
  ]
}