{
  "nbformat": 4,
  "nbformat_minor": 0,
  "metadata": {
    "colab": {
      "provenance": []
    },
    "kernelspec": {
      "name": "python3",
      "display_name": "Python 3"
    },
    "language_info": {
      "name": "python"
    }
  },
  "cells": [
    {
      "cell_type": "code",
      "execution_count": 4,
      "metadata": {
        "colab": {
          "base_uri": "https://localhost:8080/"
        },
        "id": "0dAHmsbVTCx0",
        "outputId": "48d10f49-43f5-4fe3-8f84-2eb1bc9aa002"
      },
      "outputs": [
        {
          "output_type": "stream",
          "name": "stdout",
          "text": [
            "10\n",
            "10\n"
          ]
        }
      ],
      "source": [
        "from functools import reduce\n",
        "\n",
        "def myreduce(function, sequence):\n",
        "\n",
        "    result = sequence[0]\n",
        "\n",
        "\n",
        "    for item in sequence[1:]:\n",
        "        result = function(result, item)\n",
        "\n",
        "    return result\n",
        "\n",
        "\n",
        "print(myreduce(lambda x, y: x + y, [1, 2, 3, 4]))\n",
        "print(reduce(lambda x, y: x + y, [1, 2, 3, 4]))\n",
        "\n"
      ]
    },
    {
      "cell_type": "code",
      "source": [
        "def myfilter(function, sequence):\n",
        "    result = []\n",
        "\n",
        "    for item in sequence:\n",
        "        if function(item):\n",
        "            result.append(item)\n",
        "\n",
        "    return result\n",
        "\n",
        "print(myfilter(lambda x: x % 2 == 0, [1, 2, 3, 4]))\n",
        "print(list(filter(lambda x: x % 2 == 0, [1, 2, 3, 4])))\n"
      ],
      "metadata": {
        "colab": {
          "base_uri": "https://localhost:8080/"
        },
        "id": "LznE_D4NTGB7",
        "outputId": "26aa2af1-c364-4c39-cd78-0b59ca8b6156"
      },
      "execution_count": 5,
      "outputs": [
        {
          "output_type": "stream",
          "name": "stdout",
          "text": [
            "[2, 4]\n",
            "[2, 4]\n"
          ]
        }
      ]
    },
    {
      "cell_type": "code",
      "source": [
        "list1 = [char for char in 'ACADGILD']\n",
        "print(list1)\n"
      ],
      "metadata": {
        "colab": {
          "base_uri": "https://localhost:8080/"
        },
        "id": "6HDmRkHyTNmr",
        "outputId": "4f7dc3e9-a3b6-4ba8-ef14-e89b54baa0ab"
      },
      "execution_count": 6,
      "outputs": [
        {
          "output_type": "stream",
          "name": "stdout",
          "text": [
            "['A', 'C', 'A', 'D', 'G', 'I', 'L', 'D']\n"
          ]
        }
      ]
    },
    {
      "cell_type": "code",
      "source": [
        "list2 = [char * i for char in 'xyz' for i in range(1, 5)]\n",
        "print(list2)"
      ],
      "metadata": {
        "colab": {
          "base_uri": "https://localhost:8080/"
        },
        "id": "6IUdBQhmUp70",
        "outputId": "b533b393-e88d-45a1-a6a2-8021484681cd"
      },
      "execution_count": 7,
      "outputs": [
        {
          "output_type": "stream",
          "name": "stdout",
          "text": [
            "['x', 'xx', 'xxx', 'xxxx', 'y', 'yy', 'yyy', 'yyyy', 'z', 'zz', 'zzz', 'zzzz']\n"
          ]
        }
      ]
    },
    {
      "cell_type": "code",
      "source": [
        "list3 = [char * i for i in range(1, 5) for char in 'xyz']\n",
        "print(list3)\n"
      ],
      "metadata": {
        "colab": {
          "base_uri": "https://localhost:8080/"
        },
        "id": "V8eLJLTLUtY1",
        "outputId": "db7832ea-6332-4675-856a-2ea9a951b597"
      },
      "execution_count": 8,
      "outputs": [
        {
          "output_type": "stream",
          "name": "stdout",
          "text": [
            "['x', 'y', 'z', 'xx', 'yy', 'zz', 'xxx', 'yyy', 'zzz', 'xxxx', 'yyyy', 'zzzz']\n"
          ]
        }
      ]
    },
    {
      "cell_type": "code",
      "source": [
        "list4 = [[x + y] for x in range(2, 5) for y in range(3)]\n",
        "print(list4)\n"
      ],
      "metadata": {
        "colab": {
          "base_uri": "https://localhost:8080/"
        },
        "id": "RwyKdoogUx4d",
        "outputId": "764912b0-9867-4b8e-e43e-8bf78fbdba99"
      },
      "execution_count": 9,
      "outputs": [
        {
          "output_type": "stream",
          "name": "stdout",
          "text": [
            "[[2], [3], [4], [3], [4], [5], [4], [5], [6]]\n"
          ]
        }
      ]
    },
    {
      "cell_type": "code",
      "source": [
        "list5 = [[x + y for x in range(2, 6)] for y in range(4)]\n",
        "print(list5)\n"
      ],
      "metadata": {
        "colab": {
          "base_uri": "https://localhost:8080/"
        },
        "id": "AbJR49v3U1yu",
        "outputId": "cee919ad-fdd1-465e-b9a2-80c20dc7c9cd"
      },
      "execution_count": 10,
      "outputs": [
        {
          "output_type": "stream",
          "name": "stdout",
          "text": [
            "[[2, 3, 4, 5], [3, 4, 5, 6], [4, 5, 6, 7], [5, 6, 7, 8]]\n"
          ]
        }
      ]
    },
    {
      "cell_type": "code",
      "source": [
        "list6 = [(j, i) for i in range(1, 4) for j in range(1, 4)]\n",
        "print(list6)"
      ],
      "metadata": {
        "colab": {
          "base_uri": "https://localhost:8080/"
        },
        "id": "avAjkvaWVIjA",
        "outputId": "a42f5113-a38a-4d37-b31b-eabe205b8cda"
      },
      "execution_count": 15,
      "outputs": [
        {
          "output_type": "stream",
          "name": "stdout",
          "text": [
            "[(1, 1), (2, 1), (3, 1), (1, 2), (2, 2), (3, 2), (1, 3), (2, 3), (3, 3)]\n"
          ]
        }
      ]
    },
    {
      "cell_type": "code",
      "source": [],
      "metadata": {
        "id": "uU3MWA5LXDvc"
      },
      "execution_count": null,
      "outputs": []
    }
  ]
}