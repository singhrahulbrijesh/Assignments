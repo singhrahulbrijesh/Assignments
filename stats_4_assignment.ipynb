{
  "nbformat": 4,
  "nbformat_minor": 0,
  "metadata": {
    "colab": {
      "provenance": []
    },
    "kernelspec": {
      "name": "python3",
      "display_name": "Python 3"
    },
    "language_info": {
      "name": "python"
    }
  },
  "cells": [
    {
      "cell_type": "code",
      "source": [
        "import numpy as np\n",
        "from scipy.stats import chi2_contingency\n",
        "\n",
        "# Observed data\n",
        "observed = np.array([[60, 54, 46, 41],\n",
        "                     [40, 44, 53, 57]])\n",
        "\n",
        "# Perform Chi-Square test\n",
        "chi2, p, dof, expected = chi2_contingency(observed)\n",
        "\n",
        "print(f\"Chi-Square Statistic: {chi2}\")\n",
        "print(f\"P-Value: {p}\")\n",
        "print(f\"Degrees of Freedom: {dof}\")\n",
        "print(\"Expected Frequencies:\")\n",
        "print(expected)\n",
        "\n",
        "# Decision\n",
        "alpha = 0.05\n",
        "if p < alpha:\n",
        "    print(\"Reject the null hypothesis: Gender and education level are dependent.\")\n",
        "else:\n",
        "    print(\"Fail to reject the null hypothesis: Gender and education level are independent.\")\n"
      ],
      "metadata": {
        "colab": {
          "base_uri": "https://localhost:8080/"
        },
        "id": "v7j_H-QDoEEB",
        "outputId": "c2e41334-80a7-4992-99c3-15885e46a108"
      },
      "execution_count": 4,
      "outputs": [
        {
          "output_type": "stream",
          "name": "stdout",
          "text": [
            "Chi-Square Statistic: 8.006066246262538\n",
            "P-Value: 0.045886500891747214\n",
            "Degrees of Freedom: 3\n",
            "Expected Frequencies:\n",
            "[[50.88607595 49.86835443 50.37721519 49.86835443]\n",
            " [49.11392405 48.13164557 48.62278481 48.13164557]]\n",
            "Reject the null hypothesis: Gender and education level are dependent.\n"
          ]
        }
      ]
    },
    {
      "cell_type": "code",
      "source": [
        "from scipy import stats\n",
        "\n",
        "# Data\n",
        "group1 = [51, 45, 33, 45, 67]\n",
        "group2 = [23, 43, 23, 43, 45]\n",
        "group3 = [56, 76, 74, 87, 56]\n",
        "\n",
        "# Perform one-way ANOVA\n",
        "f_statistic, p_value = stats.f_oneway(group1, group2, group3)\n",
        "\n",
        "print(f\"F-Statistic: {f_statistic}\")\n",
        "print(f\"P-Value: {p_value}\")\n",
        "\n",
        "# Decision\n",
        "alpha = 0.05\n",
        "if p_value < alpha:\n",
        "    print(\"Reject the null hypothesis: At least one group mean is different.\")\n",
        "else:\n",
        "    print(\"Fail to reject the null hypothesis: All group means are equal.\")\n"
      ],
      "metadata": {
        "colab": {
          "base_uri": "https://localhost:8080/"
        },
        "id": "mBMaPCs3qFeW",
        "outputId": "194a2186-4934-435e-b083-ef50d55059d8"
      },
      "execution_count": 5,
      "outputs": [
        {
          "output_type": "stream",
          "name": "stdout",
          "text": [
            "F-Statistic: 9.747205503009463\n",
            "P-Value: 0.0030597541434430556\n",
            "Reject the null hypothesis: At least one group mean is different.\n"
          ]
        }
      ]
    },
    {
      "cell_type": "code",
      "source": [
        "import numpy as np\n",
        "\n",
        "# Given data\n",
        "group1 = [10, 20, 30, 40, 50]\n",
        "group2 = [5, 10, 15, 20, 25]\n",
        "\n",
        "# Calculate variances\n",
        "var1 = np.var(group1, ddof=1)  # Sample variance\n",
        "var2 = np.var(group2, ddof=1)  # Sample variance\n",
        "\n",
        "# Calculate F-statistic\n",
        "f_statistic = var1 / var2\n",
        "\n",
        "print(f\"Variance of Group 1: {var1}\")\n",
        "print(f\"Variance of Group 2: {var2}\")\n",
        "print(f\"F-Statistic: {f_statistic}\")\n"
      ],
      "metadata": {
        "colab": {
          "base_uri": "https://localhost:8080/"
        },
        "id": "NvpTK5iEqM9f",
        "outputId": "7c919e29-17b6-45da-b919-b6452675d276"
      },
      "execution_count": 6,
      "outputs": [
        {
          "output_type": "stream",
          "name": "stdout",
          "text": [
            "Variance of Group 1: 250.0\n",
            "Variance of Group 2: 62.5\n",
            "F-Statistic: 4.0\n"
          ]
        }
      ]
    },
    {
      "cell_type": "code",
      "source": [],
      "metadata": {
        "id": "6zVIsberqPBn"
      },
      "execution_count": null,
      "outputs": []
    }
  ]
}