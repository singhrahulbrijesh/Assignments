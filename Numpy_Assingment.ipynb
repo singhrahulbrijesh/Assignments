{
  "nbformat": 4,
  "nbformat_minor": 0,
  "metadata": {
    "colab": {
      "provenance": []
    },
    "kernelspec": {
      "name": "python3",
      "display_name": "Python 3"
    },
    "language_info": {
      "name": "python"
    }
  },
  "cells": [
    {
      "cell_type": "code",
      "source": [
        "import numpy as np\n",
        "\n",
        "def vandermonde_matrix(vector, N=None, increasing=False):\n",
        "    if N is None:\n",
        "        N = len(vector)\n",
        "    if increasing:\n",
        "        matrix = np.array([x**i for i in range(N) for x in vector]).reshape(len(vector), N)\n",
        "    else:\n",
        "        matrix = np.array([x**(N-1-i) for i in range(N) for x in vector]).reshape(len(vector), N)\n",
        "    return matrix\n",
        "\n",
        "vector = [1, 2, 3, 4]\n",
        "print(\"Vandermonde matrix (increasing):\")\n",
        "print(vandermonde_matrix(vector, increasing=True))\n",
        "\n",
        "print(\"\\nVandermonde matrix (decreasing):\")\n",
        "print(vandermonde_matrix(vector, increasing=False))\n"
      ],
      "metadata": {
        "colab": {
          "base_uri": "https://localhost:8080/"
        },
        "id": "Hd6hOFTacH5X",
        "outputId": "41043085-c280-4820-8044-157c0e4262a1"
      },
      "execution_count": 43,
      "outputs": [
        {
          "output_type": "stream",
          "name": "stdout",
          "text": [
            "Vandermonde matrix (increasing):\n",
            "[[ 1  1  1  1]\n",
            " [ 1  2  3  4]\n",
            " [ 1  4  9 16]\n",
            " [ 1  8 27 64]]\n",
            "\n",
            "Vandermonde matrix (decreasing):\n",
            "[[ 1  8 27 64]\n",
            " [ 1  4  9 16]\n",
            " [ 1  2  3  4]\n",
            " [ 1  1  1  1]]\n"
          ]
        }
      ]
    },
    {
      "cell_type": "code",
      "source": [
        "def moving_average(sequence, k):\n",
        "    n = len(sequence)\n",
        "    if k > n:\n",
        "        return []\n",
        "    moving_averages = []\n",
        "    for i in range(n - k + 1):\n",
        "        window = sequence[i:i + k]\n",
        "        window_average = sum(window) / k\n",
        "        moving_averages.append(window_average)\n",
        "    return moving_averages\n",
        "\n",
        "sequence = [3, 5, 7, 2, 8, 10, 11, 65, 72, 81, 99, 100, 150]\n",
        "k = 3\n",
        "print(\"Moving averages:\")\n",
        "print(moving_average(sequence, k))\n"
      ],
      "metadata": {
        "colab": {
          "base_uri": "https://localhost:8080/"
        },
        "id": "fhwaq-6kc3cD",
        "outputId": "05e2f0dd-df5f-4068-f8bf-3fb3271b8914"
      },
      "execution_count": 44,
      "outputs": [
        {
          "output_type": "stream",
          "name": "stdout",
          "text": [
            "Moving averages:\n",
            "[5.0, 4.666666666666667, 5.666666666666667, 6.666666666666667, 9.666666666666666, 28.666666666666668, 49.333333333333336, 72.66666666666667, 84.0, 93.33333333333333, 116.33333333333333]\n"
          ]
        }
      ]
    },
    {
      "cell_type": "code",
      "source": [],
      "metadata": {
        "id": "YX9IEED9c5Hz"
      },
      "execution_count": null,
      "outputs": []
    }
  ]
}