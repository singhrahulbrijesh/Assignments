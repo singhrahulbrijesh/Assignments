{
  "cells": [
    {
      "cell_type": "markdown",
      "metadata": {
        "id": "RbqPANs60nwW"
      },
      "source": [
        "### Problem Statement 1:\n",
        "### In each of the following situations, state whether it is a correctly stated hypothesis testing problem and why?\n",
        "\n",
        "### 1. 𝐻0: 𝜇 = 25, 𝐻1: 𝜇 ≠ 25\n",
        "### 2. 𝐻0: 𝜎 > 10, 𝐻1: 𝜎 = 10\n",
        "### 3. 𝐻0: 𝑥 = 50, 𝐻1: 𝑥 ≠ 50\n",
        "### 4. 𝐻0: 𝑝 = 0.1, 𝐻1: 𝑝 = 0.5\n",
        "### 5. 𝐻0: 𝑠 = 30, 𝐻1: 𝑠 > 30"
      ]
    },
    {
      "cell_type": "markdown",
      "metadata": {
        "id": "bUhDtAJT0nwX"
      },
      "source": [
        "1. Yes, because values in both are statement about population or distribution, have equal values and has inequality in ull hypothesis.\n",
        "2. No, because null hypothesis has an eqaulity claim and alternate hypothesis has inequality.\n",
        "3. No, because hypothesis is stated in terms of statistics and not sample data 4. No, because values in both hypothesis is different and has equal sign.\n",
        "5. No, because hypothesis are always statements about population or distribution and not about sample\n"
      ]
    },
    {
      "cell_type": "markdown",
      "metadata": {
        "id": "8F_4d3PY0nwY"
      },
      "source": [
        "### Problem Statement 2:\n",
        "\n",
        "The college bookstore tells prospective students that the average cost of its textbooks is Rs. 52 with a standard deviation of Rs. 4.50. A group of smart statistics students thinks that the average cost is higher. To test the bookstore’s claim against their alternative, the students will select a random sample of size 100. Assume that the mean from their random sample is Rs. 52.80. Perform a hypothesis test at the 5% level of significance and state your decision.\n"
      ]
    },
    {
      "cell_type": "code",
      "execution_count": 1,
      "metadata": {
        "colab": {
          "base_uri": "https://localhost:8080/"
        },
        "id": "1KhUa33O0nwY",
        "outputId": "c3b6a4be-c3bb-42b2-8aab-8a85c219f0ee"
      },
      "outputs": [
        {
          "output_type": "stream",
          "name": "stdout",
          "text": [
            "Z score is:1.7777777777777715\n",
            "Critical region is -1.9599639845400545, 1.9599639845400545\n"
          ]
        }
      ],
      "source": [
        "from scipy.stats import norm\n",
        "import numpy as np\n",
        "import math\n",
        "import scipy.stats as stats\n",
        "from scipy.stats import chi2_contingency\n",
        "\n",
        "p_mean = 52\n",
        "p_std = 4.50\n",
        "n = 100\n",
        "sample_mean = 52.80\n",
        "\n",
        "SE = p_std/n**0.5\n",
        "Z = (sample_mean-p_mean)/SE\n",
        "print(f\"Z score is:{Z}\")\n",
        "alpha=0.05  #test_significance\n",
        "print(f\"Critical region is {norm.ppf(alpha/2)}, {-norm.ppf(alpha/2)}\")"
      ]
    },
    {
      "cell_type": "markdown",
      "metadata": {
        "id": "URi_jKkV0nwZ"
      },
      "source": [
        "#### * From above we can conclude we can accept null hypothesis since z_score<critical region"
      ]
    },
    {
      "cell_type": "markdown",
      "metadata": {
        "id": "fGZhXkwP0nwZ"
      },
      "source": [
        "### Problem Statement 3:\n",
        "A certain chemical pollutant in the Genesee River has been constant for several years with mean μ = 34 ppm (parts per million) and standard deviation σ = 8 ppm. A group of factory representatives whose companies discharge liquids into the river is now claiming that they have lowered the average with improved filtration devices. A group of environmentalists will test to see if this is true at the 1% level of significance. Assume \\ that their sample of size 50 gives a mean of 32.5 ppm. Perform a hypothesis test at the 1% level of significance and state your decision."
      ]
    },
    {
      "cell_type": "code",
      "execution_count": 2,
      "metadata": {
        "colab": {
          "base_uri": "https://localhost:8080/"
        },
        "id": "-2250svx0nwZ",
        "outputId": "1efbc7d4-51ef-457b-e252-26cfa8674be8"
      },
      "outputs": [
        {
          "output_type": "stream",
          "name": "stdout",
          "text": [
            "Z score is:-1.3258252147247767\n",
            "Critical region is -2.575829303548901, 2.575829303548901\n"
          ]
        }
      ],
      "source": [
        "p_mean = 34\n",
        "p_std = 8\n",
        "n = 50\n",
        "sample_mean = 32.5\n",
        "\n",
        "SE = p_std/n**0.5   #standard Error\n",
        "Z = (sample_mean-p_mean)/SE\n",
        "print(f\"Z score is:{Z}\")\n",
        "alpha=0.01\n",
        "print(f\"Critical region is {norm.ppf(alpha/2)}, {-norm.ppf(alpha/2)}\")"
      ]
    },
    {
      "cell_type": "markdown",
      "metadata": {
        "id": "2ARg19eu0nwa"
      },
      "source": [
        "#### * From above we can conclude we can accept null hypothesis since critical_region<Z_score"
      ]
    },
    {
      "cell_type": "markdown",
      "metadata": {
        "id": "VJZhs2va0nwa"
      },
      "source": [
        "### Problem Statement 4:\n",
        "Based on population figures and other general information on the U.S. population, suppose it has been estimated that, on average, a family of four in the U.S. spends about\n",
        "$1135 annually on dental expenditures. Suppose further that a regional dental\n",
        "association wants to test to determine if this figure is accurate for their area of\n",
        "country. To test this, 22 families of 4 are randomly selected from the population in\n",
        "that area of the country and a log is kept of the family’s dental expenditure for one\n",
        "year. The resulting data are given below. Assuming, that dental expenditure is\n",
        "normally distributed in the population, use the data and an alpha of 0.5 to test the\n",
        "dental association’s hypothesis.\n",
        "1008, 812, 1117, 1323, 1308, 1415, 831, 1021, 1287, 851, 930, 730, 699,\n",
        "872, 913, 944, 954, 987, 1695, 995, 1003, 994"
      ]
    },
    {
      "cell_type": "code",
      "execution_count": 3,
      "metadata": {
        "colab": {
          "base_uri": "https://localhost:8080/"
        },
        "id": "3Zm3T9NK0nwa",
        "outputId": "a18c347d-501d-401d-bfb7-1f1bfeca08e9"
      },
      "outputs": [
        {
          "output_type": "stream",
          "name": "stdout",
          "text": [
            "t_Score is-2.070747228595759\n",
            "Critical Region is -0.6863519907269537 0.6863519907269537\n"
          ]
        }
      ],
      "source": [
        "given_data=[1008, 812, 1117, 1323, 1308, 1415, 831, 1021, 1287, 851, 930, 730, 699, 872, 913, 944, 954, 987, 1695, 995, 1003, 994]\n",
        "p_mean =1135\n",
        "sample_std = np.std(given_data)\n",
        "n=22\n",
        "sample_mean = np.sum(given_data,axis=0)/len(given_data)\n",
        "SE = sample_std/n**0.5\n",
        "alpha = 0.5\n",
        "test_1 = (sample_mean-p_mean)/SE\n",
        "print(f\"t_Score is{test_1}\")\n",
        "print(f\"Critical Region is {stats.t.ppf((alpha/2),df=21)} {stats.t.ppf(1-(alpha/2),df=21)}\")"
      ]
    },
    {
      "cell_type": "markdown",
      "metadata": {
        "id": "pskybpVD0nwa"
      },
      "source": [
        "#### * We reject null hypothesis alpha=0.5 since it lies within critical region"
      ]
    },
    {
      "cell_type": "markdown",
      "metadata": {
        "id": "112PgCVs0nwa"
      },
      "source": [
        "### Problem Statement 5:\n",
        "In a report prepared by the Economic Research Department of a major bank the Department manager maintains that the average annual family income on Metropolis is 48432. What do you conclude about the validity of the report if a random sample of 400 families shows and average income of 48,574 with a standard deviation of 2000?"
      ]
    },
    {
      "cell_type": "code",
      "execution_count": 4,
      "metadata": {
        "colab": {
          "base_uri": "https://localhost:8080/"
        },
        "id": "T12yzyxk0nwa",
        "outputId": "c91f7074-7e78-46ba-a3dc-7772bb9510d8"
      },
      "outputs": [
        {
          "output_type": "stream",
          "name": "stdout",
          "text": [
            "Critical region is -1.9599639845400545 1.9599639845400545\n"
          ]
        }
      ],
      "source": [
        "p_mean = 48432\n",
        "p_std = 2000\n",
        "n =400\n",
        "sample_mean =48574\n",
        "\n",
        "SE = p_std/n**0.5\n",
        "Z = (sample_mean-p_mean)/SE\n",
        "alpha=0.05\n",
        "print(f\"Critical region is {norm.ppf(alpha/2)} {-norm.ppf(alpha/2)}\")"
      ]
    },
    {
      "cell_type": "markdown",
      "metadata": {
        "id": "jPzObCXS0nwa"
      },
      "source": [
        "#### *We accept null hypothesis at alpha=0.05 since z_score<critical_region"
      ]
    },
    {
      "cell_type": "markdown",
      "metadata": {
        "id": "uubVtF0o0nwb"
      },
      "source": [
        "### Problem Statement 6:\n",
        "Suppose that in past years the average price per square foot for warehouses in the\n",
        "United States has been 32.28. A national real estate investor wants to determine\n",
        "whether that figure has changed now. The investor hires a researcher who randomly\n",
        "samples 19 warehouses that are for sale across the United States and finds that the\n",
        "mean price per square foot is 31.67, with a standard deviation of 1.29. assume\n",
        "that the prices of warehouse footage are normally distributed in population. If the\n",
        "researcher uses a 5% level of significance, what statistical conclusion can be\n",
        "reached? What are the hypotheses?"
      ]
    },
    {
      "cell_type": "code",
      "execution_count": 5,
      "metadata": {
        "colab": {
          "base_uri": "https://localhost:8080/"
        },
        "id": "UNh-D8AB0nwb",
        "outputId": "bce3239f-1adb-4bd8-fc2e-73ee0388fa72"
      },
      "outputs": [
        {
          "output_type": "stream",
          "name": "stdout",
          "text": [
            "t_score is -2.1\n",
            "Critical region is -2.1 2.1\n"
          ]
        }
      ],
      "source": [
        "p_mean =32.28\n",
        "n=19\n",
        "sample_mean =31.67\n",
        "sample_std =1.29\n",
        "alpha =0.05\n",
        "\n",
        "SE=sample_std/(n**0.5)\n",
        "t=(sample_mean-p_mean)/SE\n",
        "print(f\"t_score is {round((t),1)}\")\n",
        "print(f\"Critical region is {round(stats.t.ppf((alpha/2),df=18),1)} {-round(stats.t.ppf((alpha/2),df=18),1)}\")"
      ]
    },
    {
      "cell_type": "markdown",
      "metadata": {
        "id": "n45YoZKL0nwb"
      },
      "source": [
        "#### *we can reject null hypothesis at alpha=0.05 since it lies within critical region"
      ]
    },
    {
      "cell_type": "markdown",
      "metadata": {
        "id": "0LuY5Dt50nwb"
      },
      "source": [
        "### Problem Statement 7:\n",
        "Fill in the blank spaces in the table and draw your conclusions from it.\n",
        "![image.png](attachment:image.png)"
      ]
    },
    {
      "cell_type": "markdown",
      "metadata": {
        "id": "ZhOPWBKO0nwb"
      },
      "source": [
        "i) Acceptance region 48.5 < x < 51.5"
      ]
    },
    {
      "cell_type": "code",
      "execution_count": 6,
      "metadata": {
        "colab": {
          "base_uri": "https://localhost:8080/"
        },
        "id": "1B9mIOZI0nwb",
        "outputId": "4f5d5558-1897-4546-98a2-98993d4b7ea7"
      },
      "outputs": [
        {
          "output_type": "stream",
          "name": "stdout",
          "text": [
            "-4.427188724235731\n",
            "-0.6324555320336759\n",
            "Beta at Mu1 = 52 is : 0.2643\n"
          ]
        }
      ],
      "source": [
        "# Calculate Beta at Mu1 = 52\n",
        "n1 = 10\n",
        "Sig =2.5\n",
        "Mu1 =52\n",
        "\n",
        "p11 = (48.5 - Mu1)/(Sig/math.sqrt(n1))\n",
        "print(p11)\n",
        "p12 = (51.5 - Mu1)/(Sig/math.sqrt(n1))\n",
        "print(p12)\n",
        "# As p12 > p11, so our z score lies in between these two p12 < z < p11.\n",
        "# Find probability at these z score\n",
        "P11 = 0\n",
        "P12 = 0.2643\n",
        "# now Beta = p12 - p11\n",
        "Beta11 = P12 - P11\n",
        "print(f\"Beta at Mu1 = 52 is : {Beta11}\")"
      ]
    },
    {
      "cell_type": "code",
      "execution_count": 7,
      "metadata": {
        "colab": {
          "base_uri": "https://localhost:8080/"
        },
        "id": "L0oW9lmi0nwb",
        "outputId": "c22bc5c3-7627-463a-d7ca-339c94e790e9"
      },
      "outputs": [
        {
          "output_type": "stream",
          "name": "stdout",
          "text": [
            "-2.5298221281347035\n",
            "1.2649110640673518\n",
            "Beta at Mu2 = 50.5 is : 0.1095\n"
          ]
        }
      ],
      "source": [
        "# Calculate Beta at Mu2 = 50.5\n",
        "n1 = 10\n",
        "Sig =2.5\n",
        "Mu2 =50.5\n",
        "\n",
        "p13 = (48.5 - Mu2)/(Sig/math.sqrt(n1))\n",
        "print(p13)\n",
        "p14 = (51.5 - Mu2)/(Sig/math.sqrt(n1))\n",
        "print(p14)\n",
        "\n",
        "# so our z score lies in between these two p13 < z < p14.\n",
        "# Find probability at these z score\n",
        "P13 = 0.0057\n",
        "P14 = 0.8962\n",
        "# now Beta = p13 +(1 - p14)\n",
        "Beta12 = P13 +(1- P14)\n",
        "print(f\"Beta at Mu2 = 50.5 is : {Beta12}\")"
      ]
    },
    {
      "cell_type": "markdown",
      "metadata": {
        "id": "VNNJzVdF0nwb"
      },
      "source": [
        "ii) 48 < x < 51"
      ]
    },
    {
      "cell_type": "code",
      "execution_count": 8,
      "metadata": {
        "colab": {
          "base_uri": "https://localhost:8080/"
        },
        "id": "GJ2WLyXD0nwb",
        "outputId": "0aa4aaf9-8888-4cbe-9b19-6515c9ba0e31"
      },
      "outputs": [
        {
          "output_type": "stream",
          "name": "stdout",
          "text": [
            "-5.059644256269407\n",
            "-1.2649110640673518\n",
            "Beta at Mu2 = 52 is : 0.1038\n"
          ]
        }
      ],
      "source": [
        "# Calculate Beta at Mu1 = 52\n",
        "n2 = 10\n",
        "Sig =2.5\n",
        "Mu1 =52\n",
        "\n",
        "p21 = (48.0 - Mu1)/(Sig/math.sqrt(n2))\n",
        "print(p21)\n",
        "p22 = (51.0 - Mu1)/(Sig/math.sqrt(n2))\n",
        "print(p22)\n",
        "\n",
        "# As p22 > p21, so our z score lies in between these two p22 < z < p21.\n",
        "# Find probability at these z score\n",
        "P21 = 0\n",
        "P22 = 0.1038\n",
        "# now Beta = p22 - p21\n",
        "Beta21 = P22 - P21\n",
        "print(f\"Beta at Mu2 = 52 is : {Beta21}\")"
      ]
    },
    {
      "cell_type": "code",
      "execution_count": 9,
      "metadata": {
        "colab": {
          "base_uri": "https://localhost:8080/"
        },
        "id": "b-2_RUVd0nwc",
        "outputId": "9f72fc64-bc23-4bce-b4f2-919c0d4385c1"
      },
      "outputs": [
        {
          "output_type": "stream",
          "name": "stdout",
          "text": [
            "-3.1622776601683795\n",
            "0.6324555320336759\n",
            "Beta at Mu2 = 50.5 is : 0.2651\n"
          ]
        }
      ],
      "source": [
        "# Calculate Beta at Mu2 = 50.5\n",
        "n2 = 10\n",
        "Sig =2.5\n",
        "Mu2 =50.5\n",
        "\n",
        "p23 = (48 - Mu2)/(Sig/math.sqrt(n2))\n",
        "print(p23)\n",
        "p24 = (51 - Mu2)/(Sig/math.sqrt(n2))\n",
        "print(p24)\n",
        "\n",
        "# so our z score lies in between these two p13 < z < p14.\n",
        "# Find probability at these z score\n",
        "P23 = 0.0008\n",
        "P24 = 0.7357\n",
        "# now Beta = p13 +(1 - p14)\n",
        "Beta22 = P23 +(1- P24)\n",
        "print(f\"Beta at Mu2 = 50.5 is : {Beta22}\")"
      ]
    },
    {
      "cell_type": "markdown",
      "metadata": {
        "id": "-uditPll0nwc"
      },
      "source": [
        "iii) 48.81 < x < 51.9"
      ]
    },
    {
      "cell_type": "code",
      "execution_count": 10,
      "metadata": {
        "colab": {
          "base_uri": "https://localhost:8080/"
        },
        "id": "aASf0vIv0nwc",
        "outputId": "e0daa205-7716-4c62-abe0-60984da4c672"
      },
      "outputs": [
        {
          "output_type": "stream",
          "name": "stdout",
          "text": [
            "-5.1039999999999965\n",
            "-0.16000000000000228\n",
            "Beta at Mu2 = 52 is : 0.4364\n"
          ]
        }
      ],
      "source": [
        "# Calculate Beta at Mu1 = 52\n",
        "n3 = 16\n",
        "Sig =2.5\n",
        "Mu1 =52\n",
        "\n",
        "p31 = (48.81 - Mu1)/(Sig/math.sqrt(n3))\n",
        "print(p31)\n",
        "p32 = (51.9 - Mu1)/(Sig/math.sqrt(n3))\n",
        "print(p32)\n",
        "\n",
        "# so our z score lies in between these two p31 < z < p32.\n",
        "# Find probability at these z score\n",
        "P31 = 0.4364\n",
        "P32 = 0\n",
        "# now Beta = p31 - p32\n",
        "Beta31 = P31 - P32\n",
        "print(f\"Beta at Mu2 = 52 is : {Beta31}\")"
      ]
    },
    {
      "cell_type": "code",
      "execution_count": 11,
      "metadata": {
        "colab": {
          "base_uri": "https://localhost:8080/"
        },
        "id": "cfQJamB60nwc",
        "outputId": "99649d06-1358-4997-c817-38da1d9abafb"
      },
      "outputs": [
        {
          "output_type": "stream",
          "name": "stdout",
          "text": [
            "-2.703999999999996\n",
            "2.2399999999999975\n",
            "Beta at Mu2 = 50.5 is : 0.015700000000000047\n"
          ]
        }
      ],
      "source": [
        "# Calculate Beta at Mu2 = 50.5\n",
        "n3 = 16\n",
        "Sig =2.5\n",
        "Mu2 =50.5\n",
        "\n",
        "p33 = (48.81 - Mu2)/(Sig/math.sqrt(n3))\n",
        "print(p33)\n",
        "p34 = (51.9 - Mu2)/(Sig/math.sqrt(n3))\n",
        "print(p34)\n",
        "\n",
        "# so our z score lies in between these two p33 < z < 1- p34.\n",
        "# Find probability at these z score\n",
        "P33 = 0.0032\n",
        "P34 = 0.9875\n",
        "# now Beta = P33 + 1- P34\n",
        "Beta32 = P33 +1 - P34\n",
        "print(f\"Beta at Mu2 = 50.5 is : {Beta32}\")"
      ]
    },
    {
      "cell_type": "markdown",
      "metadata": {
        "id": "-3hyU1yd0nwc"
      },
      "source": [
        "iv) 48.42 <x < 51.58"
      ]
    },
    {
      "cell_type": "code",
      "execution_count": 12,
      "metadata": {
        "colab": {
          "base_uri": "https://localhost:8080/"
        },
        "id": "fHP5MIwI0nwc",
        "outputId": "c7819483-cf82-473e-dac5-93137e205417"
      },
      "outputs": [
        {
          "output_type": "stream",
          "name": "stdout",
          "text": [
            "-5.727999999999997\n",
            "-0.6720000000000027\n",
            "Beta at Mu2 = 52 is : 0.2514\n"
          ]
        }
      ],
      "source": [
        "# Calculate Beta at Mu1 = 52\n",
        "n4 = 16\n",
        "Sig =2.5\n",
        "Mu1 =52\n",
        "\n",
        "p41 = (48.42 - Mu1)/(Sig/math.sqrt(n4))\n",
        "print(p41)\n",
        "p42 = (51.58 - Mu1)/(Sig/math.sqrt(n4))\n",
        "print(p42)\n",
        "\n",
        "# As P42> P41, so our z score lies in between these two p42 < z < p41.\n",
        "# Find probability at these z score\n",
        "P41 = 0.0\n",
        "P42 = 0.2514\n",
        "# now Beta = p31 - p32\n",
        "Beta41 = P42 - P41\n",
        "print(f\"Beta at Mu2 = 52 is : {Beta41}\")"
      ]
    },
    {
      "cell_type": "code",
      "execution_count": 13,
      "metadata": {
        "colab": {
          "base_uri": "https://localhost:8080/"
        },
        "id": "c7ESNHNX0nwc",
        "outputId": "8614df89-ac34-4cc8-c4ea-78082f9fbb0e"
      },
      "outputs": [
        {
          "output_type": "stream",
          "name": "stdout",
          "text": [
            "-2.703999999999996\n",
            "2.2399999999999975\n",
            "Beta at Mu2 = 50.5 is : 0.015999999999999955\n"
          ]
        }
      ],
      "source": [
        "# Calculate Beta at Mu2 = 50.5\n",
        "n4 = 16\n",
        "Sig =2.5\n",
        "Mu2 =50.5\n",
        "\n",
        "p43 = (48.42 - Mu2)/(Sig/math.sqrt(n4))\n",
        "print(p33)\n",
        "p44 = (51.58 - Mu2)/(Sig/math.sqrt(n4))\n",
        "print(p34)\n",
        "\n",
        "# so our z score lies in between these two p33 < z < 1- p34.\n",
        "# Find probability at these z score\n",
        "P43 = 0.0035\n",
        "P44 = 0.9875\n",
        "# now Beta = P43 + 1- P44\n",
        "Beta42 = P43 +(1 - P44)\n",
        "print(f\"Beta at Mu2 = 50.5 is : {Beta42}\")"
      ]
    },
    {
      "cell_type": "markdown",
      "metadata": {
        "id": "ieqtRYUy0nwd"
      },
      "source": [
        "### Problem Statement 8:\n",
        "Find the t-score for a sample size of 16 taken from a population with mean 10 when\n",
        "the sample mean is 12 and the sample standard deviation is 1.5."
      ]
    },
    {
      "cell_type": "code",
      "execution_count": 14,
      "metadata": {
        "colab": {
          "base_uri": "https://localhost:8080/"
        },
        "id": "AEhYjJ8A0nwd",
        "outputId": "a2fd3e9e-479f-4ddd-8ada-ebb7b7ef0f07"
      },
      "outputs": [
        {
          "output_type": "stream",
          "name": "stdout",
          "text": [
            "t_score is 5.3\n"
          ]
        }
      ],
      "source": [
        "#t_score = ?\n",
        "n = 16\n",
        "p_mean = 10\n",
        "sample_mean =12\n",
        "sample_std =1.5\n",
        "\n",
        "SE = sample_std/(n**0.5)\n",
        "t = (sample_mean-p_mean)/SE\n",
        "print(f\"t_score is {round((t),1)}\")"
      ]
    },
    {
      "cell_type": "markdown",
      "metadata": {
        "id": "9jeZCBAg0nwd"
      },
      "source": [
        "### Problem Statement 9:\n",
        "Find the t-score below which we can expect 99% of sample means will fall if samples\n",
        "of size 16 are taken from a normally distributed population."
      ]
    },
    {
      "cell_type": "code",
      "execution_count": 15,
      "metadata": {
        "colab": {
          "base_uri": "https://localhost:8080/"
        },
        "id": "mWHOyKDR0nwd",
        "outputId": "2e269e02-fdf9-4d23-d930-5e49a7e6aa8f"
      },
      "outputs": [
        {
          "output_type": "stream",
          "name": "stdout",
          "text": [
            "t_score is 2.9467128834859504\n"
          ]
        }
      ],
      "source": [
        "n= 16\n",
        "alpha=(1-0.99)/2\n",
        "print(f\"t_score is {stats.t.ppf(1-alpha,df=15)}\")"
      ]
    },
    {
      "cell_type": "markdown",
      "metadata": {
        "id": "IKgf3A9R0nwd"
      },
      "source": [
        "### Problem Statement 10:\n",
        "If a random sample of size 25 drawn from a normal population gives a mean of 60\n",
        "and a standard deviation of 4, find the range of t-scores where we can expect to find\n",
        "the middle 95% of all sample means. Compute the probability that (−𝑡0.05 <𝑡<𝑡0.10)."
      ]
    },
    {
      "cell_type": "code",
      "execution_count": 16,
      "metadata": {
        "colab": {
          "base_uri": "https://localhost:8080/"
        },
        "id": "c62CJAcl0nwd",
        "outputId": "269846d6-aa96-4b29-f4fb-f5987cb1ed86"
      },
      "outputs": [
        {
          "output_type": "stream",
          "name": "stdout",
          "text": [
            "Range is : 61.651118849302414 58.348881150697586\n"
          ]
        }
      ],
      "source": [
        "n=25\n",
        "std=4\n",
        "mean=60\n",
        "alpha=(1-0.95)/2\n",
        "t_score=stats.t.ppf(1-alpha,df=24)\n",
        "print(f\"Range is : {mean+t_score*(std/(n**0.5))} {mean-t_score*(std/(n**0.5))}\")"
      ]
    },
    {
      "cell_type": "code",
      "execution_count": 17,
      "metadata": {
        "colab": {
          "base_uri": "https://localhost:8080/"
        },
        "id": "WdO-D-uf0nwe",
        "outputId": "a007208d-64d3-4757-8d0f-3897daa531dd"
      },
      "outputs": [
        {
          "output_type": "stream",
          "name": "stdout",
          "text": [
            "probability that (−𝑡0.05 <𝑡<𝑡0.10) is 0.05914441613731247\n"
          ]
        }
      ],
      "source": [
        "p=stats.t.cdf(0.1,df=24)-stats.t.cdf(-0.05,df=24)\n",
        "print(f\"probability that (−𝑡0.05 <𝑡<𝑡0.10) is {p}\")"
      ]
    },
    {
      "cell_type": "markdown",
      "metadata": {
        "id": "38XTFJdr0nwe"
      },
      "source": [
        "### Problem Statement 11:\n",
        "Two-tailed test for difference between two population means\n",
        "Is there evidence to conclude that the number of people travelling from Bangalore to\n",
        "Chennai is different from the number of people travelling from Bangalore to Hosur in\n",
        "a week, given the following:\n",
        "Population 1: Bangalore to Chennai n1 = 1200\n",
        "x1 = 452\n",
        "s1 = 212\n",
        "Population 2: Bangalore to Hosur n2 = 800\n",
        "x2 = 523\n",
        "s2 = 185"
      ]
    },
    {
      "cell_type": "code",
      "execution_count": 18,
      "metadata": {
        "colab": {
          "base_uri": "https://localhost:8080/"
        },
        "id": "dsUplz0k0nwe",
        "outputId": "bba7c63c-33be-4619-bda9-6c70190fc40c"
      },
      "outputs": [
        {
          "output_type": "stream",
          "name": "stdout",
          "text": [
            "Z_Score is -7.926428526759299\n",
            "Critical region is -1.9599639845400545 1.9599639845400545\n"
          ]
        }
      ],
      "source": [
        "n1 = 1200\n",
        "x1 = 452\n",
        "s1 = 212\n",
        "n2 = 800\n",
        "x2 = 523\n",
        "s2 = 185\n",
        "s_1=s1**2\n",
        "s_2=s2**2\n",
        "alpha=0.05\n",
        "se=((s_1/n1)+(s_2/n2))**0.5\n",
        "z_score=(x1-x2)/se\n",
        "print(f\"Z_Score is {z_score}\")\n",
        "print(f\"Critical region is {norm.ppf(alpha/2)} {-norm.ppf(alpha/2)}\")"
      ]
    },
    {
      "cell_type": "markdown",
      "metadata": {
        "id": "xk1XM5MO0nwe"
      },
      "source": [
        "#### *We reject null hypothesis since it lies within critical region at alpha=5%.So,number of people travelling from Bangalore to Chennai is different from the number of people travelling from Bangalore to Hosur in a week"
      ]
    },
    {
      "cell_type": "markdown",
      "metadata": {
        "id": "I1UkwXhp0nwe"
      },
      "source": [
        "### Problem Statement 12:\n",
        "Is there evidence to conclude that the number of people preferring Duracell battery is\n",
        "different from the number of people preferring Energizer battery, given the following:\n",
        "Population 1: Duracell\n",
        "n1 = 100\n",
        "x1 = 308\n",
        "s1 = 84\n",
        "Population 2: Energizer\n",
        "n2 = 100\n",
        "x2 = 254\n",
        "s2 = 67"
      ]
    },
    {
      "cell_type": "code",
      "execution_count": 19,
      "metadata": {
        "colab": {
          "base_uri": "https://localhost:8080/"
        },
        "id": "nyo5kadd0nwe",
        "outputId": "5a59e41f-e110-4017-a548-19b400ff3fb4"
      },
      "outputs": [
        {
          "output_type": "stream",
          "name": "stdout",
          "text": [
            "Z_Score is 5.025702668336442\n",
            "Critical region is -1.9599639845400545 1.9599639845400545\n"
          ]
        }
      ],
      "source": [
        "n1 = 100\n",
        "x1 = 308\n",
        "s1 = 84\n",
        "n2 = 100\n",
        "x2 = 254\n",
        "s2 = 67\n",
        "s_1=s1**2\n",
        "s_2=s2**2\n",
        "alpha=0.05\n",
        "SE=((s_1/n1)+(s_2/n2))**0.5\n",
        "z_score=(x1-x2)/SE\n",
        "print(f\"Z_Score is {z_score}\")\n",
        "print(f\"Critical region is {norm.ppf(alpha/2)} {-norm.ppf(alpha/2)}\")"
      ]
    },
    {
      "cell_type": "markdown",
      "metadata": {
        "id": "F50uAUJy0nwf"
      },
      "source": [
        "#### *We reject null hypothesis since it lies within critical region at alpha=5%.So, number of people preferring Duracell battery is different from the number of people preferring Energizer battery"
      ]
    },
    {
      "cell_type": "markdown",
      "metadata": {
        "id": "mEvdJXlQ0nwf"
      },
      "source": [
        "### Problem Statement 13:\n",
        "Pooled estimate of the population variance\n",
        "Does the data provide sufficient evidence to conclude that average percentage\n",
        "increase in the price of sugar differs when it is sold at two different prices?\n",
        "Population 1: Price of sugar = Rs. 27.50 n1 = 14\n",
        "x1 = 0.317%\n",
        "s1 = 0.12%\n",
        "Population 2: Price of sugar = Rs. 20.00 n2 = 9\n",
        "x2 = 0.21%\n",
        "s2 = 0.11%"
      ]
    },
    {
      "cell_type": "code",
      "execution_count": 20,
      "metadata": {
        "colab": {
          "base_uri": "https://localhost:8080/"
        },
        "id": "ct0nVzi-0nwf",
        "outputId": "a3b5ad46-4ec1-4b47-8e98-96681eb5da41"
      },
      "outputs": [
        {
          "output_type": "stream",
          "name": "stdout",
          "text": [
            "T_score is 0.3931089218182991\n",
            "Critical Region is 1.7207429028118775\n"
          ]
        }
      ],
      "source": [
        "n1 = 14\n",
        "x1 = 0.317\n",
        "s1 = 0.12\n",
        "n2 = 9\n",
        "x2 = 0.21\n",
        "s2 = 0.11\n",
        "s_1=s1**2\n",
        "s_2=s2**2\n",
        "s=((n1-1)*s_1)+((n2-1)*s_2)\n",
        "n=(n1+n2-2)\n",
        "se=(s/n)**0.5\n",
        "n_1=((1/n1)+(1/n2))**0.5\n",
        "t_score=(x1-x2)/se*n_1\n",
        "\n",
        "print(f\"T_score is {t_score}\")\n",
        "print(f\"Critical Region is {stats.t.ppf(1-0.05,df=n)}\")\n"
      ]
    },
    {
      "cell_type": "markdown",
      "metadata": {
        "id": "02Let68g0nwf"
      },
      "source": [
        "#### *We accept null hypothesis at alpha=5%.So,average price do not increase"
      ]
    },
    {
      "cell_type": "markdown",
      "metadata": {
        "id": "26rrWjK40nwf"
      },
      "source": [
        "### Problem Statement 14:\n",
        "The manufacturers of compact disk players want to test whether a small price\n",
        "reduction is enough to increase sales of their product. Is there evidence that the\n",
        "small price reduction is enough to increase sales of compact disk players?\n",
        "Population 1: Before reduction\n",
        "n1 = 15\n",
        "x1 = Rs. 6598 s1 = Rs. 844\n",
        "Population 2: After reduction n2 = 12\n",
        "x2 = RS. 6870\n",
        "s2 = Rs. 669"
      ]
    },
    {
      "cell_type": "code",
      "execution_count": 21,
      "metadata": {
        "colab": {
          "base_uri": "https://localhost:8080/"
        },
        "id": "7wTVuEOn0nwf",
        "outputId": "ab6fdf4c-f316-4876-d572-71d23ab1640b"
      },
      "outputs": [
        {
          "output_type": "stream",
          "name": "stdout",
          "text": [
            "T_score is -0.1364745051598569\n",
            "Critical Region is -1.708140761251899\n"
          ]
        }
      ],
      "source": [
        "n1 = 15\n",
        "x1 = 6598\n",
        "s1 = 844\n",
        "n2 = 12\n",
        "x2 = 6870\n",
        "s2 = 669\n",
        "s_1=s1**2\n",
        "s_2=s2**2\n",
        "\n",
        "s=((n1-1)*s_1)+((n2-1)*s_2)\n",
        "n=(n1+n2-2)\n",
        "se=(s/n)**0.5\n",
        "n_1=((1/n1)+(1/n2))**0.5\n",
        "t_score=(x1-x2)/se*n_1\n",
        "\n",
        "print(f\"T_score is {t_score}\")\n",
        "print(f\"Critical Region is {stats.t.ppf(0.05,df=n)}\")"
      ]
    },
    {
      "cell_type": "markdown",
      "metadata": {
        "id": "fAo6341f0nwf"
      },
      "source": [
        "#### *We accept null hypothesis at alpha=5%.So average price remains same"
      ]
    },
    {
      "cell_type": "markdown",
      "metadata": {
        "id": "ygvY1fVn0nwf"
      },
      "source": [
        "### Problem Statement 15:\n",
        "Comparisons of two population proportions when the hypothesized difference is zero\n",
        "Carry out a two-tailed test of the equality of banks’ share of the car loan market in\n",
        "1980 and 1995.\n",
        "Population 1: 1980\n",
        "n1 = 1000\n",
        "x1 = 53\n",
        "𝑝 1 = 0.53\n",
        "Population 2: 1985\n",
        "n2 = 100\n",
        "x2 = 43\n",
        "𝑝 2= 0.53"
      ]
    },
    {
      "cell_type": "code",
      "execution_count": 22,
      "metadata": {
        "colab": {
          "base_uri": "https://localhost:8080/"
        },
        "id": "jdT37Faz0nwf",
        "outputId": "7030d418-cd50-4a70-d6f0-ed3ba0fea5b9"
      },
      "outputs": [
        {
          "output_type": "stream",
          "name": "stdout",
          "text": [
            "Z_score is 0.0\n",
            "Critical region is -1.6448536269514729\n"
          ]
        }
      ],
      "source": [
        "n1 = 1000\n",
        "x1 = 53\n",
        "𝑝1 = 0.53\n",
        "n2 = 100\n",
        "x2 = 43\n",
        "𝑝2= 0.53\n",
        "p=(x1+x2)/(n1+n2)\n",
        "\n",
        "n=(1/n1)+(1/n2)\n",
        "p_1=p*(1-p)\n",
        "Z=(p1-p2)/((p_1*n)**0.5)\n",
        "print(f\"Z_score is {Z}\")\n",
        "print(f\"Critical region is {norm.ppf(0.05)}\")"
      ]
    },
    {
      "cell_type": "markdown",
      "metadata": {
        "id": "09lm_fKZ0nwg"
      },
      "source": [
        "#### *We can't reject null hypothesis at alpha=10%"
      ]
    },
    {
      "cell_type": "markdown",
      "metadata": {
        "id": "XMiECbbw0nwg"
      },
      "source": [
        "### Problem Statement 16:\n",
        "Carry out a one-tailed test to determine whether the population proportion of\n",
        "traveler’s check buyers who buy at least $2500 in checks when sweepstakes prizes\n",
        "are offered as at least 10% higher than the proportion of such buyers when no\n",
        "sweepstakes are on.\n",
        "Population 1: With sweepstakes\n",
        "n1 = 300\n",
        "x1 = 120\n",
        "𝑝 = 0.40\n",
        "Population 2: No sweepstakes n2 = 700\n",
        "x2 = 140\n",
        "𝑝 2= 0.20"
      ]
    },
    {
      "cell_type": "code",
      "execution_count": 23,
      "metadata": {
        "colab": {
          "base_uri": "https://localhost:8080/"
        },
        "id": "8YOtsaA30nwg",
        "outputId": "a8343043-df2d-4855-9328-e0b828c69ee2"
      },
      "outputs": [
        {
          "output_type": "stream",
          "name": "stdout",
          "text": [
            "Z_score is 3.303749523611152\n",
            "Critical region is 1.6448536269514729\n"
          ]
        }
      ],
      "source": [
        "n1 = 300\n",
        "x1 = 120\n",
        "𝑝1 = 0.40\n",
        "n2 = 700\n",
        "x2 = 140\n",
        "𝑝2= 0.20\n",
        "p=(x1+x2)/(n1+n2)\n",
        "\n",
        "n=(1/n1)+(1/n2)\n",
        "p_1=p*(1-p)\n",
        "Z=(p1-p2-0.1)/((p_1*n)**0.5)\n",
        "print(f\"Z_score is {Z}\")\n",
        "print(f\"Critical region is {-norm.ppf(0.05)}\")"
      ]
    },
    {
      "cell_type": "markdown",
      "metadata": {
        "id": "CRNjDDP_0nwg"
      },
      "source": [
        "#### *We reject null hypothesis at alpha=5%\n"
      ]
    },
    {
      "cell_type": "markdown",
      "metadata": {
        "id": "xnx7W9TR0nwg"
      },
      "source": [
        "### Problem Statement 17:\n",
        "A die is thrown 132 times with the following results: Number turned up: 1, 2, 3, 4, 5, 6\n",
        "Frequency: 16, 20, 25, 14, 29, 28\n",
        "Is the die unbiased? Consider the degrees of freedom as 𝑝 − 1."
      ]
    },
    {
      "cell_type": "code",
      "execution_count": 24,
      "metadata": {
        "colab": {
          "base_uri": "https://localhost:8080/"
        },
        "id": "qVJTx0Sr0nwg",
        "outputId": "9bc87570-6ec2-4255-ff0b-c7cf99e4d420"
      },
      "outputs": [
        {
          "output_type": "stream",
          "name": "stdout",
          "text": [
            "Chi square value is 9.0 and p-value is 0.1090641579497725\n",
            "Dias is unbiased.\n"
          ]
        }
      ],
      "source": [
        "f_obs= [16, 20, 25, 14, 29, 28]\n",
        "f_exp= [22,22,22,22,22,22]\n",
        "result=stats.chisquare(f_obs,f_exp)\n",
        "print(f\"Chi square value is {result[0]} and p-value is {result[1]}\")\n",
        "print('Dias is unbiased.')"
      ]
    },
    {
      "cell_type": "markdown",
      "metadata": {
        "id": "PoTBLUhq0nwg"
      },
      "source": [
        "### Problem Statement 18:\n",
        "In a certain town, there are about one million eligible voters. A simple random\n",
        "sample of 10,000 eligible voters was chosen to study the relationship between\n",
        "gender and participation in the last election. The results are summarized in the\n",
        "following 2X2 (read two by two) contingency table:\n",
        "\n",
        "![image.png](attachment:image.png)\n",
        "\n",
        "We would want to check whether being a man or a woman (columns) is independent of\n",
        "having voted in the last election (rows). In other words, is “gender and voting independent”?\n"
      ]
    },
    {
      "cell_type": "code",
      "execution_count": 25,
      "metadata": {
        "colab": {
          "base_uri": "https://localhost:8080/"
        },
        "id": "fupv1wuG0nwh",
        "outputId": "78b07752-4122-45bf-c71f-304e4a0319d0"
      },
      "outputs": [
        {
          "output_type": "stream",
          "name": "stdout",
          "text": [
            "Chi Square value is 6.660455899328067\n",
            "Critical region with alpha=0.05 is 3.84\n",
            "We reject null hypothesis.It is not gender and voting independent\n"
          ]
        }
      ],
      "source": [
        "observed_voted_men=2792\n",
        "observed_voted_women=3591\n",
        "observed_not_voted_men=1486\n",
        "observed_not_voted_women=2131\n",
        "total_voted=2792+3591\n",
        "total_not_voted=1486+2131\n",
        "total_men=2792+1486\n",
        "total_women=3591+2131\n",
        "expected_voted_men=(total_voted*total_men)/10000\n",
        "expected_voted_women=(total_voted*total_women)/10000\n",
        "expected_not_voted_men=(total_not_voted*total_men)/10000\n",
        "expected_not_voted_women=(total_not_voted*total_women)/10000\n",
        "chisquare1=(((observed_voted_women-expected_voted_women)**2)/expected_voted_women)\n",
        "chisquare2=(((observed_voted_men-expected_voted_men)**2)/expected_voted_men)\n",
        "chisquare3=(((observed_not_voted_men-expected_not_voted_men)**2)/expected_not_voted_men)\n",
        "chisquare4=(((observed_not_voted_women-expected_not_voted_women)**2)/expected_not_voted_women)\n",
        "chisquare=chisquare1+chisquare2+chisquare3+chisquare4\n",
        "print(f\"Chi Square value is {chisquare}\")\n",
        "print(f\"Critical region with alpha=0.05 is 3.84\")\n",
        "print(\"We reject null hypothesis.It is not gender and voting independent\")"
      ]
    },
    {
      "cell_type": "markdown",
      "metadata": {
        "id": "8zliN0Am0nwh"
      },
      "source": [
        "### Problem Statement 19:\n",
        "A sample of 100 voters are asked which of four candidates they would vote for in an\n",
        "election. The number supporting each candidate is given below:\n",
        "![image.png](attachment:image.png)\n",
        "Do the data suggest that all candidates are equally popular?\n",
        "[Chi-Square = 14.96,with 3 df, 𝑝 0.05 .]"
      ]
    },
    {
      "cell_type": "code",
      "execution_count": 26,
      "metadata": {
        "colab": {
          "base_uri": "https://localhost:8080/"
        },
        "id": "BJvN0IDP0nwh",
        "outputId": "bd0c0c6e-4a55-4019-a160-0a2f4ad4cc47"
      },
      "outputs": [
        {
          "output_type": "stream",
          "name": "stdout",
          "text": [
            "Chi Square value is 14.959999999999999\n",
            "Critical region with 3df and alpha=0.05 is 7.82\n",
            "We reject null hypothesis. All candidates are not equally popular\n"
          ]
        }
      ],
      "source": [
        "#print(np.mean([41,19,24,16]))\n",
        "obs=[41,19,24,16]\n",
        "exp=[25,25,25,25]\n",
        "result=stats.chisquare(obs,exp)\n",
        "print(f\"Chi Square value is {result[0]}\")\n",
        "print(f\"Critical region with 3df and alpha=0.05 is 7.82\")\n",
        "print(\"We reject null hypothesis. All candidates are not equally popular\")"
      ]
    },
    {
      "cell_type": "markdown",
      "metadata": {
        "id": "X8JjqlwP0nwh"
      },
      "source": [
        "### Problem Statement 20:\n",
        "Children of three ages are asked to indicate their preference for three photographs of\n",
        "adults. Do the data suggest that there is a significant relationship between age and\n",
        "photograph preference? What is wrong with this study? [Chi-Square = 29.6, with 4\n",
        "df: 𝑝 < 0.05].\n",
        "![image.png](attachment:image.png)"
      ]
    },
    {
      "cell_type": "code",
      "execution_count": 27,
      "metadata": {
        "colab": {
          "base_uri": "https://localhost:8080/"
        },
        "id": "GUmUMI6q0nwh",
        "outputId": "c185a275-effd-40e7-a3b7-d68e2e05048b"
      },
      "outputs": [
        {
          "output_type": "stream",
          "name": "stdout",
          "text": [
            "Chi Square value is 29.603174603174608\n",
            "Critical region with 4df and alpha=0.001 is 18.47\n",
            "We reject null hypothesis.There is significant relationship between age and photograph preference\n"
          ]
        }
      ],
      "source": [
        "obs=([[18,22,20],[2,28,40],[20,10,40]])\n",
        "result=chi2_contingency(obs)\n",
        "print(f\"Chi Square value is {result[0]}\")\n",
        "print(f\"Critical region with 4df and alpha=0.001 is 18.47\")\n",
        "print(\"We reject null hypothesis.There is significant relationship between age and photograph preference\")"
      ]
    },
    {
      "cell_type": "markdown",
      "metadata": {
        "id": "yzNp5HBE0nwh"
      },
      "source": [
        "### Problem Statement 21:\n",
        "A study of conformity using the Asch paradigm involved two conditions: one where\n",
        "one confederate supported the true judgement and another where no confederate\n",
        "gave the correct response.\n",
        "![image.png](attachment:image.png)\n",
        "Is there a significant difference between the \"support\" and \"no support\" conditions in the\n",
        "frequency with which individuals are likely to conform? [Chi-Square = 19.87, with 1 df:\n",
        "𝑝 < 0.05].\n"
      ]
    },
    {
      "cell_type": "code",
      "execution_count": 28,
      "metadata": {
        "colab": {
          "base_uri": "https://localhost:8080/"
        },
        "id": "5D1-Pxyr0nwi",
        "outputId": "fef9e042-2c22-4dfd-832d-11cdfd32cf92"
      },
      "outputs": [
        {
          "output_type": "stream",
          "name": "stdout",
          "text": [
            "Chi Square value is 18.10344827586207\n",
            "Critical region with 1df and alpha=0.001 is 10.83\n",
            "We reject null hypoythesis.So,there is significant difference between the 'support' and 'no support' conditions in the frequency with which individuals are likely to conform\n"
          ]
        }
      ],
      "source": [
        "obs=np.array([[18,40],[32,10]])\n",
        "result=chi2_contingency(obs)\n",
        "print(f\"Chi Square value is {result[0]}\")\n",
        "print(f\"Critical region with 1df and alpha=0.001 is 10.83\")\n",
        "print(\"We reject null hypoythesis.So,there is significant difference between the 'support' and 'no support' conditions in the frequency with which individuals are likely to conform\")"
      ]
    },
    {
      "cell_type": "markdown",
      "metadata": {
        "id": "CmPHdh_20nwi"
      },
      "source": [
        "### Problem Statement 22:\n",
        "We want to test whether short people differ with respect to their leadership qualities\n",
        "(Genghis Khan, Adolf Hitler and Napoleon were all stature-deprived, and how many midget\n",
        "MP's are there?) The following table shows the frequencies with which 43 short people and\n",
        "52 tall people were categorized as \"leaders\", \"followers\" or as \"unclassifiable\". Is there a\n",
        "relationship between height and leadership qualities?\n",
        "[Chi-Square = 10.71, with 2 df: 𝑝 < 0.01].\n",
        "![image.png](attachment:image.png)\n",
        "\n"
      ]
    },
    {
      "cell_type": "code",
      "execution_count": 29,
      "metadata": {
        "colab": {
          "base_uri": "https://localhost:8080/"
        },
        "id": "bzHQfaIj0nwi",
        "outputId": "dcf5951a-096b-46ad-e3a7-88da673a9a72"
      },
      "outputs": [
        {
          "output_type": "stream",
          "name": "stdout",
          "text": [
            "Chi Square value is 10.712198008709638\n",
            "Critical region with 2df and alpha=0.001 is 13.82\n",
            "We accept null hypothesis.there is no relationship between height and leadership qualities\n"
          ]
        }
      ],
      "source": [
        "obs=([[12,32],[22,14],[9,6]])\n",
        "result=chi2_contingency(obs)\n",
        "print(f\"Chi Square value is {result[0]}\")\n",
        "print(f\"Critical region with 2df and alpha=0.001 is 13.82\")\n",
        "print(\"We accept null hypothesis.there is no relationship between height and leadership qualities\")"
      ]
    },
    {
      "cell_type": "markdown",
      "metadata": {
        "id": "Aozc81kH0nwi"
      },
      "source": [
        "### Problem Statement 23:\n",
        "Each respondent in the Current Population Survey of March 1993 was classified as\n",
        "employed, unemployed, or outside the labor force. The results for men in California age 35-\n",
        "44 can be cross-tabulated by marital status, as follows:\n",
        "![image.png](attachment:image.png)\n",
        "Men of different marital status seem to have different distributions of labor force status. Or is\n",
        "this just chance variation? (you may assume the table results from a simple random\n",
        "sample.)"
      ]
    },
    {
      "cell_type": "code",
      "execution_count": 30,
      "metadata": {
        "colab": {
          "base_uri": "https://localhost:8080/"
        },
        "id": "o20Qd5N50nwi",
        "outputId": "abedf163-74d1-4fb9-f614-536a3d267a18"
      },
      "outputs": [
        {
          "output_type": "stream",
          "name": "stdout",
          "text": [
            "Chi Square value is 31.61310319407798\n",
            "Critical region with 4df and alpha=0.001 is 18.47\n",
            "We reject null hypothesis at alpha=0.001 .there is relationship between martial status and employment status\n"
          ]
        }
      ],
      "source": [
        "obs = np.array([[679,103,114], [63,10,20],[42,18,25]])\n",
        "result=chi2_contingency(obs)\n",
        "print(f\"Chi Square value is {result[0]}\")\n",
        "print(f\"Critical region with 4df and alpha=0.001 is 18.47\")\n",
        "print(\"We reject null hypothesis at alpha=0.001 .there is relationship between martial status and employment status\")"
      ]
    },
    {
      "cell_type": "code",
      "source": [],
      "metadata": {
        "id": "94uuUjKx0ye9"
      },
      "execution_count": 30,
      "outputs": []
    }
  ],
  "metadata": {
    "kernelspec": {
      "display_name": "Python 3",
      "language": "python",
      "name": "python3"
    },
    "language_info": {
      "codemirror_mode": {
        "name": "ipython",
        "version": 3
      },
      "file_extension": ".py",
      "mimetype": "text/x-python",
      "name": "python",
      "nbconvert_exporter": "python",
      "pygments_lexer": "ipython3",
      "version": "3.7.6"
    },
    "colab": {
      "provenance": []
    }
  },
  "nbformat": 4,
  "nbformat_minor": 0
}