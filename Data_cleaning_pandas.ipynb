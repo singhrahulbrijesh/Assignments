{
  "nbformat": 4,
  "nbformat_minor": 0,
  "metadata": {
    "colab": {
      "provenance": []
    },
    "kernelspec": {
      "name": "python3",
      "display_name": "Python 3"
    },
    "language_info": {
      "name": "python"
    }
  },
  "cells": [
    {
      "cell_type": "code",
      "source": [
        "import numpy as np\n",
        "import pandas as pd\n",
        "\n",
        "df = pd.DataFrame({\n",
        "    'From_To': ['LoNDon_paris', 'MAdrid_miLAN', 'londON_StockhOlm',\n",
        "                'Budapest_PaRis', 'Brussels_londOn'],\n",
        "    'FlightNumber': [10045, np.nan, 10065, np.nan, 10085],\n",
        "    'RecentDelays': [[23, 47], [], [24, 43, 87], [13], [67, 32]],\n",
        "    'Airline': ['KLM(!)', '<Air France> (12)', '(British Airways. )',\n",
        "                '12. Air France', '\"Swiss Air\"']\n",
        "})\n",
        "\n",
        "\n"
      ],
      "metadata": {
        "id": "CG6Fv19FauTl"
      },
      "execution_count": 39,
      "outputs": []
    },
    {
      "cell_type": "code",
      "source": [
        "df['FlightNumber'] = df['FlightNumber'].interpolate().astype(int)"
      ],
      "metadata": {
        "id": "fkbWMSvgb2nl"
      },
      "execution_count": 40,
      "outputs": []
    },
    {
      "cell_type": "code",
      "source": [
        "temp_df = df['From_To'].str.split('_', expand=True)\n",
        "temp_df.columns = ['From', 'To']\n",
        "temp_df['From'] = temp_df['From'].str.capitalize()\n",
        "temp_df['To'] = temp_df['To'].str.capitalize()\n",
        "\n",
        "df = df.drop('From_To', axis=1)\n",
        "df = pd.concat([df, temp_df], axis=1)\n",
        "\n",
        "\n"
      ],
      "metadata": {
        "id": "LclcLjheb7Fm"
      },
      "execution_count": 41,
      "outputs": []
    },
    {
      "cell_type": "code",
      "source": [
        "delays = df['RecentDelays'].apply(pd.Series)\n",
        "delays.columns = [f'delay_{i+1}' for i in delays.columns]\n",
        "\n",
        "df = df.drop('RecentDelays', axis=1)\n",
        "df = pd.concat([df, delays], axis=1)\n",
        "\n",
        "print(df)"
      ],
      "metadata": {
        "colab": {
          "base_uri": "https://localhost:8080/"
        },
        "id": "Upv_ERP2b9Nl",
        "outputId": "1499257d-4d4d-4c84-fcda-f78c28b8c95f"
      },
      "execution_count": 42,
      "outputs": [
        {
          "output_type": "stream",
          "name": "stdout",
          "text": [
            "   FlightNumber              Airline      From         To  delay_1  delay_2  \\\n",
            "0         10045               KLM(!)    London      Paris     23.0     47.0   \n",
            "1         10055    <Air France> (12)    Madrid      Milan      NaN      NaN   \n",
            "2         10065  (British Airways. )    London  Stockholm     24.0     43.0   \n",
            "3         10075       12. Air France  Budapest      Paris     13.0      NaN   \n",
            "4         10085          \"Swiss Air\"  Brussels     London     67.0     32.0   \n",
            "\n",
            "   delay_3  \n",
            "0      NaN  \n",
            "1      NaN  \n",
            "2     87.0  \n",
            "3      NaN  \n",
            "4      NaN  \n"
          ]
        }
      ]
    },
    {
      "cell_type": "code",
      "source": [],
      "metadata": {
        "id": "Hd6hOFTacH5X"
      },
      "execution_count": null,
      "outputs": []
    }
  ]
}