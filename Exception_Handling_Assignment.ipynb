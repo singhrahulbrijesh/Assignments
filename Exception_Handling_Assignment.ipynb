{
  "nbformat": 4,
  "nbformat_minor": 0,
  "metadata": {
    "colab": {
      "provenance": []
    },
    "kernelspec": {
      "name": "python3",
      "display_name": "Python 3"
    },
    "language_info": {
      "name": "python"
    }
  },
  "cells": [
    {
      "cell_type": "code",
      "source": [
        "def divide_by_zero():\n",
        "    try:\n",
        "        result = 5 / 0\n",
        "    except ZeroDivisionError as e:\n",
        "        return f\"Error: {e}\"\n",
        "\n",
        "# Example usage\n",
        "print(divide_by_zero())\n"
      ],
      "metadata": {
        "colab": {
          "base_uri": "https://localhost:8080/"
        },
        "id": "Drhvo-ksYyKY",
        "outputId": "f874d7c0-c5b4-48e8-cdae-2802827643d5"
      },
      "execution_count": 21,
      "outputs": [
        {
          "output_type": "stream",
          "name": "stdout",
          "text": [
            "Error: division by zero\n"
          ]
        }
      ]
    },
    {
      "cell_type": "code",
      "source": [
        "def generate_sentences(subjects, verbs, objects):\n",
        "    sentences = []\n",
        "    for subject in subjects:\n",
        "        for verb in verbs:\n",
        "            for obj in objects:\n",
        "                sentences.append(f\"{subject} {verb} {obj}.\")\n",
        "    return sentences\n",
        "\n",
        "# Example usage\n",
        "subjects = [\"Americans\", \"Indians\"]\n",
        "verbs = [\"play\", \"watch\"]\n",
        "objects = [\"Baseball\", \"Cricket\"]\n",
        "\n",
        "sentences = generate_sentences(subjects, verbs, objects)\n",
        "for sentence in sentences:\n",
        "    print(sentence)\n"
      ],
      "metadata": {
        "colab": {
          "base_uri": "https://localhost:8080/"
        },
        "id": "a9KNQ5qDah80",
        "outputId": "b68af2d4-1e80-4fde-e7c1-9c222128f49e"
      },
      "execution_count": 22,
      "outputs": [
        {
          "output_type": "stream",
          "name": "stdout",
          "text": [
            "Americans play Baseball.\n",
            "Americans play Cricket.\n",
            "Americans watch Baseball.\n",
            "Americans watch Cricket.\n",
            "Indians play Baseball.\n",
            "Indians play Cricket.\n",
            "Indians watch Baseball.\n",
            "Indians watch Cricket.\n"
          ]
        }
      ]
    },
    {
      "cell_type": "code",
      "source": [],
      "metadata": {
        "id": "CG6Fv19FauTl"
      },
      "execution_count": null,
      "outputs": []
    }
  ]
}