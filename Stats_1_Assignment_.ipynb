{
  "cells": [
    {
      "cell_type": "code",
      "execution_count": 1,
      "metadata": {
        "id": "pwkY5xFUzRqg"
      },
      "outputs": [],
      "source": [
        "import numpy as np\n",
        "from scipy import stats\n",
        "import math\n",
        "import statistics\n",
        "import os\n",
        "import sys"
      ]
    },
    {
      "cell_type": "markdown",
      "metadata": {
        "id": "v14xuAGtzRqi"
      },
      "source": [
        "### Calculate the mean, median, mode and standard deviation for the problem statements 1& 2."
      ]
    },
    {
      "cell_type": "markdown",
      "metadata": {
        "id": "HnYVyNPwzRqj"
      },
      "source": [
        "### Problem Statement 1:\n",
        "\n",
        "### The marks awarded for an assignment set for a Year 8 class of 20 students were as follows:\n",
        "\n",
        "### 6 7 5 7 7 8 7 6 9 7 4 10 6 8 8 9 5 6 4 8"
      ]
    },
    {
      "cell_type": "code",
      "execution_count": 2,
      "metadata": {
        "id": "SupNmmgQzRqj"
      },
      "outputs": [],
      "source": [
        "marks = np.asarray([6,7,5,7,7,8,7,6,9,7,4,10,6,8,8,9,5,6,4,8])"
      ]
    },
    {
      "cell_type": "code",
      "execution_count": 3,
      "metadata": {
        "colab": {
          "base_uri": "https://localhost:8080/"
        },
        "id": "YrAAObXNzRqj",
        "outputId": "845c36fd-8a74-452d-f125-234022d90998"
      },
      "outputs": [
        {
          "output_type": "stream",
          "name": "stdout",
          "text": [
            "The mean of the marks is 6.85\n",
            "The median of the marks is 7.0\n",
            "The mode of the marks is 7\n",
            "The standard Deviation of the marks is 1.5898113095584647\n"
          ]
        }
      ],
      "source": [
        "def stats(marks):\n",
        "    print(f\"The mean of the marks is {np.mean(marks)}\")\n",
        "    print(f\"The median of the marks is {np.median(marks)}\")\n",
        "    print(f\"The mode of the marks is {statistics.mode(marks)}\")\n",
        "    print(f\"The standard Deviation of the marks is {np.std(marks)}\")\n",
        "\n",
        "stats(marks)"
      ]
    },
    {
      "cell_type": "markdown",
      "metadata": {
        "id": "pfqBfozKzRqk"
      },
      "source": [
        "### Problem Statement 2:\n",
        "\n",
        "### The number of calls from motorists per day for roadside service was recorded for a particular month:\n",
        "\n",
        "### 28, 122, 217, 130, 120, 86, 80, 90, 140, 120, 70, 40, 145, 113, 90, 68, 174, 194, 170,\n",
        "### 100, 75, 104, 97, 75,123, 100, 75, 104, 97, 75, 123, 100, 89, 120, 109"
      ]
    },
    {
      "cell_type": "code",
      "execution_count": 4,
      "metadata": {
        "id": "AxPNQtL2zRql"
      },
      "outputs": [],
      "source": [
        "call_records =np.asarray([28, 122, 217, 130, 120, 86, 80, 90, 140, 120, 70, 40, 145, 113, 90, 68, 174, 194, 170,100, 75, 104, 97, 75,123, 100, 75, 104, 97, 75, 123, 100, 89, 120, 109])"
      ]
    },
    {
      "cell_type": "code",
      "execution_count": 5,
      "metadata": {
        "colab": {
          "base_uri": "https://localhost:8080/"
        },
        "id": "oMckU4bfzRql",
        "outputId": "845c385b-b396-4a7a-bc03-5621cd464ae9"
      },
      "outputs": [
        {
          "output_type": "stream",
          "name": "stdout",
          "text": [
            "The mean of the marks is 107.51428571428572\n",
            "The median of the marks is 100.0\n",
            "The mode of the marks is 75\n",
            "The standard Deviation of the marks is 38.77287080168403\n"
          ]
        }
      ],
      "source": [
        "stats(call_records)"
      ]
    },
    {
      "cell_type": "markdown",
      "metadata": {
        "id": "Bd84xXw_zRql"
      },
      "source": [
        "### Problem Statement 3:\n",
        "\n",
        "### The number of times I go to the gym in weekdays, are given below along with its associated probability:\n",
        "### x = 0, 1, 2, 3, 4, 5\n",
        "### f(x) = 0.09, 0.15, 0.40, 0.25, 0.10, 0.01\n",
        "### Calculate the mean no. of workouts in a week. Also evaluate the variance involved in it."
      ]
    },
    {
      "cell_type": "code",
      "execution_count": 6,
      "metadata": {
        "id": "P0FQIeumzRqm"
      },
      "outputs": [],
      "source": [
        "x = np.asarray([0,1,2,3,4,5])\n",
        "f_x = np.array([0.09,0.15,0.40,0.25,0.10,0.01])"
      ]
    },
    {
      "cell_type": "code",
      "execution_count": 7,
      "metadata": {
        "colab": {
          "base_uri": "https://localhost:8080/"
        },
        "id": "ydC8-_pOzRqm",
        "outputId": "f02963d2-5fad-4efb-8e76-3aa61499c020"
      },
      "outputs": [
        {
          "output_type": "stream",
          "name": "stdout",
          "text": [
            "Mean no. of workouts: 2.15\n",
            "Variance of workouts: [1.2275]\n"
          ]
        }
      ],
      "source": [
        "x.reshape((1,-1))\n",
        "f_x.reshape((-1,1))\n",
        "mean=np.dot(x,f_x)\n",
        "variance_of_x=(x-mean)**2\n",
        "variance = np.dot(variance_of_x.reshape(1,-1),f_x)\n",
        "print(f\"Mean no. of workouts: {mean}\")\n",
        "print(f\"Variance of workouts: {variance}\")"
      ]
    },
    {
      "cell_type": "markdown",
      "metadata": {
        "id": "T1AfoVFPzRqm"
      },
      "source": [
        "### Problem Statement 4:\n",
        "\n",
        "### Let the continuous random variable D denote the diameter of the hole drilled in an aluminum sheet. The target diameter to be achieved is 12.5mm. Random disturbances in the process often result in inaccuracy.\n",
        "### Historical data shows that the distribution of D can be modelled by the PDF (𝑑) = 20𝑒−20(𝑑−12.5), 𝑑 ≥ 12.5. If a part with diameter > 12.6 mm needs to be scrapped, what is the proportion of those parts? What is the CDF when the diameter is of 11mm? What is your conclusion regarding the proportion of scraps?"
      ]
    },
    {
      "cell_type": "code",
      "execution_count": 8,
      "metadata": {
        "id": "A7OPohArzRqm"
      },
      "outputs": [],
      "source": [
        "from scipy import integrate"
      ]
    },
    {
      "cell_type": "code",
      "execution_count": 9,
      "metadata": {
        "colab": {
          "base_uri": "https://localhost:8080/"
        },
        "id": "RVQcj1kCzRqn",
        "outputId": "fdae39f4-6fa8-4b22-b6d6-dd60b38b2a5f"
      },
      "outputs": [
        {
          "output_type": "stream",
          "name": "stdout",
          "text": [
            "Proportion of Parts need to scrapped when d >12.6mm is :0.13533528323661398\n",
            "CDF when d= 11mm is:inf\n",
            "Proportion of CDF when d>12.5mm is : 1.0000000000000024\n"
          ]
        },
        {
          "output_type": "stream",
          "name": "stderr",
          "text": [
            "<ipython-input-9-5ed2f695cae4>:3: RuntimeWarning: overflow encountered in exp\n",
            "  PDF=lambda d:20*(np.exp((-20*(d-12.5))))\n"
          ]
        }
      ],
      "source": [
        "#PDF (𝑑) = 20𝑒−20(𝑑−12.5)\n",
        "#𝑑 ≥ 12.5\n",
        "PDF=lambda d:20*(np.exp((-20*(d-12.5))))\n",
        "x = 12.6\n",
        "P_x=integrate.quad(PDF,12.6,np.inf)\n",
        "y = 11\n",
        "CDF=integrate.quad(PDF,-np.inf,y)\n",
        "print(f\"Proportion of Parts need to scrapped when d >12.6mm is :{P_x[0]}\")\n",
        "print(f\"CDF when d= 11mm is:{CDF[0]}\")\n",
        "print(f\"Proportion of CDF when d>12.5mm is : {integrate.quad(PDF,12.5,np.inf)[0]}\")\n",
        "\n",
        "#Conclusion\n",
        "#it can be concluded that the function is only valid when d>=12.5.\n",
        "#When d<12.5, the part can be reworked to 12.5 so no scrap in this case.\n",
        "#PDF is not defined for d=11"
      ]
    },
    {
      "cell_type": "markdown",
      "metadata": {
        "id": "BZp9LyQSzRqn"
      },
      "source": [
        "### Problem Statement 5:\n",
        "### A company manufactures LED bulbs with a faulty rate of 30%. If I randomly select 6 chosen LEDs, what is the probability of having 2 faulty LEDs in my sample? Calculate the average value of this process. Also evaluate the standard deviation associated with it."
      ]
    },
    {
      "cell_type": "code",
      "execution_count": 10,
      "metadata": {
        "id": "RSb-xpnvzRqn"
      },
      "outputs": [],
      "source": [
        "import matplotlib.pyplot as plt\n",
        "import seaborn as sns\n",
        "%matplotlib inline\n",
        "import pandas as pd\n",
        "import scipy.special\n"
      ]
    },
    {
      "cell_type": "code",
      "execution_count": 17,
      "metadata": {
        "colab": {
          "base_uri": "https://localhost:8080/",
          "height": 429
        },
        "id": "9MilEYgjzRqn",
        "outputId": "ef923b65-1e61-4963-a354-a5df6f67aae7"
      },
      "outputs": [
        {
          "output_type": "stream",
          "name": "stdout",
          "text": [
            "a      2.000000\n",
            "B_a    0.324135\n",
            "Name: 2, dtype: float64\n"
          ]
        },
        {
          "output_type": "display_data",
          "data": {
            "text/plain": [
              "<Figure size 1500x500 with 1 Axes>"
            ],
            "image/png": "[encoded data removed]"
          },
          "metadata": {}
        }
      ],
      "source": [
        "x = 0.3\n",
        "y = 0.7\n",
        "\n",
        "# Creating DataFrame\n",
        "df = pd.DataFrame({'a': [int(i) for i in range(7)],\n",
        "                   'B_a': [scipy.special.comb(6, i) * (x ** i) * (y ** (6 - i)) for i in range(7)]})\n",
        "\n",
        "# Print the specific row\n",
        "print(df.iloc[2])\n",
        "\n",
        "# Plotting\n",
        "plt.figure(figsize=(15, 5))\n",
        "sns.barplot(x='a', y='B_a', data=df)\n",
        "plt.xlabel('Number of Faulty LEDs')\n",
        "plt.ylabel('Probability of Fault')\n",
        "plt.title('Probability of Faulty LEDs')\n",
        "plt.show()\n",
        "\n"
      ]
    },
    {
      "cell_type": "code",
      "execution_count": 18,
      "metadata": {
        "colab": {
          "base_uri": "https://localhost:8080/"
        },
        "id": "3cGfTvNqzRqn",
        "outputId": "f744ce74-16ef-4e51-c859-564b9ffc15b3"
      },
      "outputs": [
        {
          "output_type": "stream",
          "name": "stdout",
          "text": [
            "mean = 2.0\n",
            "Standard Deviation : 1.0\n"
          ]
        }
      ],
      "source": [
        "df['Expected value']=df['a']*df['B_a']\n",
        "mean=np.round(df['Expected value'].sum())\n",
        "print('mean = {}'.format(mean))\n",
        "df['variance']=df['B_a']*(df['a']-mean)**2\n",
        "std=np.sqrt(df['variance'].sum())\n",
        "print(f\"Standard Deviation : {np.round(std)}\")"
      ]
    },
    {
      "cell_type": "markdown",
      "metadata": {
        "id": "YSfwgX-EzRqo"
      },
      "source": [
        "### Problem Statement 6:\n",
        "\n",
        "### Gaurav and Barakha are both preparing for entrance exams. Gaurav attempts to solve 8 questions per day with a correction rate of 75%, while Barakha averages around 12 questions per day with a correction rate of 45%. What is the probability that each of them will solve 5 questions correctly? What happens in cases of 4 and 6 correct solutions? What do you infer from it? What are the two main governing factors affecting their ability to solve questions correctly? Give a pictorial representation of the same to validate your answer."
      ]
    },
    {
      "cell_type": "code",
      "execution_count": 19,
      "metadata": {
        "colab": {
          "base_uri": "https://localhost:8080/"
        },
        "id": "S8RP5xXFzRqo",
        "outputId": "fbb8e905-7356-41e8-8489-50f9f3078760"
      },
      "outputs": [
        {
          "output_type": "stream",
          "name": "stdout",
          "text": [
            "Probability of each of them solving 5 questions correctly is:0.046199890572992106\n",
            "Probability of each of them solving 4,6 questions correctly is:0.01837495647789459\n"
          ]
        }
      ],
      "source": [
        "#Gaurav- avg=,p1=0.75\n",
        "#Barakha- avg=5,p2=0.45\n",
        "#here both the students are independent from each other, correction rate of one doesnot effect another one\n",
        "#G(5)*B(5)\n",
        "\n",
        "from scipy.stats import binom\n",
        "import numpy as np\n",
        "\n",
        "print(f\"Probability of each of them solving 5 questions correctly is:{binom.pmf(5,8,0.75)*binom.pmf(5,12,0.45)}\")\n",
        "print(f\"Probability of each of them solving 4,6 questions correctly is:{binom.pmf(4,8,0.75)*binom.pmf(6,12,0.45)}\")\n",
        "#their correction rates effect their combined probability\n"
      ]
    },
    {
      "cell_type": "code",
      "execution_count": 20,
      "metadata": {
        "id": "Fk54OeNDzRqo"
      },
      "outputs": [],
      "source": [
        "#following graphs show their correction rates invidually and combined\n",
        "def binom_plot(n,p,):\n",
        "    fig,ax=plt.subplots(1,1)\n",
        "    x = np.arange(binom.ppf(0.01, n, p),binom.ppf(0.99, n, p))\n",
        "    ax.plot(x, binom.pmf(x, n, p), 'bo', ms=8, label='binom pmf')\n",
        "    ax.vlines(x, 0, binom.pmf(x, n, p), colors='b', lw=5, alpha=0.5)"
      ]
    },
    {
      "cell_type": "code",
      "execution_count": 21,
      "metadata": {
        "colab": {
          "base_uri": "https://localhost:8080/",
          "height": 430
        },
        "id": "jMZbjKMYzRqo",
        "outputId": "4222f7f4-32c0-44a3-8b56-50365ce4654f"
      },
      "outputs": [
        {
          "output_type": "display_data",
          "data": {
            "text/plain": [
              "<Figure size 640x480 with 1 Axes>"
            ],
            "image/png": "[encoded data removed]"
          },
          "metadata": {}
        }
      ],
      "source": [
        "#Gaurav\n",
        "binom_plot(8,0.75)"
      ]
    },
    {
      "cell_type": "code",
      "execution_count": 22,
      "metadata": {
        "colab": {
          "base_uri": "https://localhost:8080/",
          "height": 430
        },
        "id": "qcoG3SKpzRqp",
        "outputId": "834cd8e2-8684-44cb-fda0-bd638b16d055"
      },
      "outputs": [
        {
          "output_type": "display_data",
          "data": {
            "text/plain": [
              "<Figure size 640x480 with 1 Axes>"
            ],
            "image/png": "[encoded data removed]"
          },
          "metadata": {}
        }
      ],
      "source": [
        "#Barakha\n",
        "binom_plot(12,0.45)\n"
      ]
    },
    {
      "cell_type": "code",
      "execution_count": 23,
      "metadata": {
        "colab": {
          "base_uri": "https://localhost:8080/",
          "height": 448
        },
        "id": "JphJ9rHVzRqp",
        "outputId": "977f6c10-25f3-4622-d231-e57d2696bb40"
      },
      "outputs": [
        {
          "output_type": "execute_result",
          "data": {
            "text/plain": [
              "<matplotlib.collections.LineCollection at 0x7eb0e51297e0>"
            ]
          },
          "metadata": {},
          "execution_count": 23
        },
        {
          "output_type": "display_data",
          "data": {
            "text/plain": [
              "<Figure size 640x480 with 1 Axes>"
            ],
            "image/png": "[encoded data removed]"
          },
          "metadata": {}
        }
      ],
      "source": [
        "\n",
        "fig,ax=plt.subplots(1,1)\n",
        "x = np.arange(1,11)\n",
        "ax.plot(x, binom.pmf(x,8,0.75)*binom.pmf(x,12,0.45), 'bo', ms=8, label='binom pmf')\n",
        "ax.vlines(x, 0, binom.pmf(x,8,0.75)*binom.pmf(x,12,0.45), colors='b', lw=5, alpha=0.5)\n",
        "#maximum combined probability observed at 6 question"
      ]
    },
    {
      "cell_type": "code",
      "execution_count": 24,
      "metadata": {
        "colab": {
          "base_uri": "https://localhost:8080/"
        },
        "id": "cNWJUJJRzRqp",
        "outputId": "9c67d17c-4f0e-4e43-e674-527568e63140"
      },
      "outputs": [
        {
          "output_type": "execute_result",
          "data": {
            "text/plain": [
              "0.046199890572992106"
            ]
          },
          "metadata": {},
          "execution_count": 24
        }
      ],
      "source": [
        "from scipy.stats import binom\n",
        "binom.pmf(5,8,0.75)*binom.pmf(5,12,0.45)"
      ]
    },
    {
      "cell_type": "markdown",
      "metadata": {
        "id": "F4UN8GsDzRqp"
      },
      "source": [
        "### Problem Statement 7\n",
        "\n",
        "### Customers arrive at a rate of 72 per hour to my shop. What is the probability of 𝑘 customers arriving in 4 minutes? a) 5 customers, b) not more than 3 customers, c) more than 3 customers. Give a pictorial representation of the same to validate your answer."
      ]
    },
    {
      "cell_type": "code",
      "execution_count": 25,
      "metadata": {
        "colab": {
          "base_uri": "https://localhost:8080/"
        },
        "id": "QPiLBssHzRqp",
        "outputId": "37eb1d6a-b645-4ee1-9068-2b7f369cdb54"
      },
      "outputs": [
        {
          "output_type": "stream",
          "name": "stdout",
          "text": [
            "The probability of arriving 5 cutomers in 4 minutes is : 0.17474768364388296\n",
            "The probability of arriving not more than 3 customers in 4 minutes is : 0.15169069760753714\n",
            "The Probability of more than 3 customers arriving in 4 minutes is : 0.7057700835034357\n"
          ]
        }
      ],
      "source": [
        "from scipy.stats import poisson\n",
        "#We need to calculate average number of customers arriving per 4 minutes\n",
        "#72/60 customers come per minute\n",
        "mu = 4*(72/60) #customers come per 4 minutes\n",
        "print(f\"The probability of arriving 5 cutomers in 4 minutes is : {poisson.pmf(k=5,mu=mu)}\")\n",
        "print(f\"The probability of arriving not more than 3 customers in 4 minutes is : {poisson.pmf(k=3, mu=mu)}\")\n",
        "print(f'The Probability of more than 3 customers arriving in 4 minutes is : {1-poisson.cdf(k=3,mu=mu)}')\n"
      ]
    },
    {
      "cell_type": "code",
      "execution_count": 26,
      "metadata": {
        "colab": {
          "base_uri": "https://localhost:8080/",
          "height": 373
        },
        "id": "ouYhLDPzzRqq",
        "outputId": "b0f4c7b2-e6de-4228-f923-a00e837e6fd7"
      },
      "outputs": [
        {
          "output_type": "execute_result",
          "data": {
            "text/plain": [
              "Text(0, 0.5, 'Probability')"
            ]
          },
          "metadata": {},
          "execution_count": 26
        },
        {
          "output_type": "display_data",
          "data": {
            "text/plain": [
              "<Figure size 1500x500 with 1 Axes>"
            ],
            "image/png": "[encoded data removed]"
          },
          "metadata": {}
        }
      ],
      "source": [
        "x = list(range(0,10))\n",
        "fig,ax = plt.subplots(1,1,figsize=(15,5))\n",
        "ax.plot(x, poisson.pmf(x,mu), 'bo', ms=8, label='poisson pmf')\n",
        "ax.vlines(x, 0, poisson.pmf(x, mu), colors='b', lw=5, alpha=0.5)\n",
        "plt.xlabel('Number of customers')\n",
        "plt.ylabel('Probability')\n"
      ]
    },
    {
      "cell_type": "markdown",
      "metadata": {
        "id": "1HypaBgmzRqq"
      },
      "source": [
        "### Problem Statement 7:\n",
        "\n",
        "### I work as a data analyst in Aeon Learning Pvt. Ltd. After analyzing data, I make reports, where I have the efficiency of entering 77 words per minute with 6 errors per hour. What is the probability that I will commit 2 errors in a 455-word financial report? What happens when the no. of words increases/decreases (in case of 1000 words, 255 words)?\n",
        "\n",
        "### How is the 𝜆 affected?\n",
        "### How does it influence the PMF?\n",
        "### Give a pictorial representation of the same to validate your answer."
      ]
    },
    {
      "cell_type": "code",
      "execution_count": 27,
      "metadata": {
        "colab": {
          "base_uri": "https://localhost:8080/",
          "height": 421
        },
        "id": "kxtsIOi0zRqq",
        "outputId": "ed988955-cdf6-4bc9-f463-dba4b63519cf"
      },
      "outputs": [
        {
          "output_type": "stream",
          "name": "stdout",
          "text": [
            "The pobability of commiting 2 errors in 455 words financial report is :0.09669027375144444\n",
            "The pobability of commiting 2 errors in 1000 words financial report is :0.23012815007300153\n",
            "The pobability of commiting 2 errors in 255 words financial report is :0.039377135392854104\n"
          ]
        },
        {
          "output_type": "execute_result",
          "data": {
            "text/plain": [
              "<matplotlib.collections.LineCollection at 0x7eb12f1c4340>"
            ]
          },
          "metadata": {},
          "execution_count": 27
        },
        {
          "output_type": "display_data",
          "data": {
            "text/plain": [
              "<Figure size 1500x500 with 1 Axes>"
            ],
            "image/png": "[encoded data removed]"
          },
          "metadata": {}
        }
      ],
      "source": [
        "from scipy.stats import poisson\n",
        "#Rate of entering=77 per minute\n",
        "#error rate= 6/hour=0.1 per minute\n",
        "#No of errors per word=0.1/77\n",
        "unit_mu=0.1/77\n",
        "def mu(n):\n",
        "    return n * unit_mu\n",
        "print(f\"The pobability of commiting 2 errors in 455 words financial report is :{poisson.pmf(2,mu=mu(455))}\")\n",
        "print(f\"The pobability of commiting 2 errors in 1000 words financial report is :{poisson.pmf(2,mu=mu(1000))}\")\n",
        "print(f\"The pobability of commiting 2 errors in 255 words financial report is :{poisson.pmf(2,mu=mu(255))}\")\n",
        "x=range(100,1000,50)\n",
        "mu=[i*unit_mu for i in x]\n",
        "fig,ax = plt.subplots(1,1,figsize=(15,5))\n",
        "ax.plot(x,poisson.pmf(2,mu), 'bo', ms=8, label='poisson pmf')\n",
        "ax.vlines(x,0, poisson.pmf(2,mu), colors='b', lw=5, alpha=0.5)\n",
        "#As the number of words increase probability of getting errors increases"
      ]
    },
    {
      "cell_type": "code",
      "execution_count": 28,
      "metadata": {
        "colab": {
          "base_uri": "https://localhost:8080/",
          "height": 367
        },
        "id": "svMU7tPjzRqq",
        "outputId": "7a456779-f078-43b1-f93f-ba850c412acc"
      },
      "outputs": [
        {
          "output_type": "execute_result",
          "data": {
            "text/plain": [
              "<matplotlib.collections.LineCollection at 0x7eb0e5033a00>"
            ]
          },
          "metadata": {},
          "execution_count": 28
        },
        {
          "output_type": "display_data",
          "data": {
            "text/plain": [
              "<Figure size 1500x500 with 1 Axes>"
            ],
            "image/png": "[encoded data removed]"
          },
          "metadata": {}
        }
      ],
      "source": [
        "fig,ax = plt.subplots(1,1,figsize=(15,5))\n",
        "ax.plot(x,mu, 'bo', ms=8, label='poisson pmf')\n",
        "ax.vlines(x,0,mu, colors='b', lw=5, alpha=0.5)\n",
        "#Value of mu keeps on increasing with number of words"
      ]
    },
    {
      "cell_type": "markdown",
      "metadata": {
        "id": "562YEqqozRqr"
      },
      "source": [
        "### Problem 9 is same as Problem 4"
      ]
    },
    {
      "cell_type": "markdown",
      "metadata": {
        "id": "kagb8BDkzRqr"
      },
      "source": [
        "### Problem Statement 10:\n",
        "\n",
        "### Please compute the following:\n",
        "### a) P(Z > 1.26), . P(Z < −0.86), P(Z > −1.37), P(−1.25 < Z < 0.37), . P(Z ≤ −4.6)\n",
        "### b) Find the value 𝑧 such that 𝑃(𝑍 > 𝑧) = 0.05\n",
        "### c) Find the value of 𝑧 such that 𝑃(−𝑧 < 𝑍 < 𝑧) = 0.99"
      ]
    },
    {
      "cell_type": "code",
      "execution_count": 29,
      "metadata": {
        "colab": {
          "base_uri": "https://localhost:8080/"
        },
        "id": "_bP_ZXrVzRqr",
        "outputId": "9ebbe0f6-b1dd-4dcc-ac1f-0fe93eb715b1"
      },
      "outputs": [
        {
          "output_type": "stream",
          "name": "stdout",
          "text": [
            "P(Z>1.26) = 0.10383\n",
            "P(Z<-0.86) = 0.19489\n",
            "P(Z>-1.37) = 0.91466\n",
            "P(−1.25 < Z < 0.37) = 0.53866\n",
            "P(Z ≤ −4.6) = 0.00000\n"
          ]
        }
      ],
      "source": [
        "from scipy.stats import norm\n",
        "def P(z,b=-np.inf) :\n",
        "    return integrate.quad(norm.pdf,b,z)[0]\n",
        "\n",
        "print('P(Z>1.26) = %.5f'%(1-P(1.26)))\n",
        "print('P(Z<-0.86) = %.5f'%P(-0.86))\n",
        "print('P(Z>-1.37) = %.5f'%(1-P(-1.37)))\n",
        "print('P(−1.25 < Z < 0.37) = %.5f'%P(0.37,b=-1.25))\n",
        "print('P(Z ≤ −4.6) = %.5f'%P(-4.6))"
      ]
    },
    {
      "cell_type": "code",
      "execution_count": 30,
      "metadata": {
        "colab": {
          "base_uri": "https://localhost:8080/"
        },
        "id": "TDKLkBsezRqr",
        "outputId": "08722633-194e-4b2e-c5ce-e592e069e5ba"
      },
      "outputs": [
        {
          "output_type": "stream",
          "name": "stdout",
          "text": [
            "P(Z>z)=0.05 is 1.64\n",
            "𝑃(−𝑧 < 𝑍 < 𝑧) = 0.99 is 2.58\n"
          ]
        }
      ],
      "source": [
        "print('P(Z>z)=0.05 is %.2f'%(-1*norm.ppf(0.05)))\n",
        "print('𝑃(−𝑧 < 𝑍 < 𝑧) = 0.99 is %.2f'%(abs(norm.ppf(0.005))))"
      ]
    },
    {
      "cell_type": "markdown",
      "metadata": {
        "id": "T0VdxpUEzRqs"
      },
      "source": [
        "### Problem Statement 11:\n",
        "\n",
        "### The current flow in a copper wire follow a normal distribution with a mean of 10 𝑚A and a variance of 4 (𝑚𝐴)2.\n",
        "### What is the probability that a current measurement will exceed 13 𝑚𝐴? What is the probability that a current measurement is between 9 and 11mA? Determine the current measurement which has a probability of 0.98."
      ]
    },
    {
      "cell_type": "code",
      "execution_count": 31,
      "metadata": {
        "colab": {
          "base_uri": "https://localhost:8080/"
        },
        "id": "B4ri88QkzRqs",
        "outputId": "aac12fd9-db78-43df-90c7-0cda263b1aaf"
      },
      "outputs": [
        {
          "output_type": "stream",
          "name": "stdout",
          "text": [
            "Probability that current > 13mA is: 0.06680720126885797\n",
            "Probability that current is between 9 mA and 11 mA is : 1.3085375387259144\n"
          ]
        }
      ],
      "source": [
        "mean = 10\n",
        "std = np.sqrt(4)\n",
        "\n",
        "def I(z, b=-np.inf):\n",
        "    z = (z-mean)/std\n",
        "    return integrate.quad(norm.pdf,b,z)[0]\n",
        "print(f\"Probability that current > 13mA is: {1-I(13)}\")\n",
        "print(f\"Probability that current is between 9 mA and 11 mA is : {1-I(11,b=9)}\")"
      ]
    },
    {
      "cell_type": "markdown",
      "metadata": {
        "id": "SXVm8X62zRqs"
      },
      "source": [
        "### Problem Statement 12:\n",
        "\n",
        "### The shaft in a piston has its diameter normally distributed with a mean of 0.2508 inch and a standard deviation of 0.0005 inch. The specifications of the shaft are 0.2500 ∓0.0015 inch. What proportion of shafts are in sync with the specifications? If the process is centered so that the mean is equal to the target value of 0.2500, what proportion of shafts conform to the new specifications? What is your conclusion from this experiment?"
      ]
    },
    {
      "cell_type": "code",
      "execution_count": 32,
      "metadata": {
        "colab": {
          "base_uri": "https://localhost:8080/"
        },
        "id": "yNLO8-h-zRqs",
        "outputId": "b7c85c97-0ab0-43df-d3b6-804bb0713d95"
      },
      "outputs": [
        {
          "output_type": "stream",
          "name": "stdout",
          "text": [
            "Proportion of shafts with dia in range of 0.2485<d<0.2515 when mean diameter:(0.2508, None)\n",
            "Proportion of shafts with dia in range of 0.2485<d<0.2515 when mean diameter:(0.25, None)\n"
          ]
        }
      ],
      "source": [
        "mean_dia=0.2508\n",
        "std_dia=0.0005\n",
        "#specified dia in the range of 0.2485<d<0.2515\n",
        "#case-1 if mean_dia=0.2508\n",
        "def I(mean,std,a,b) :\n",
        "  #gives P(Z<=x)\n",
        "  a=(a-mean)/std\n",
        "  b=(b-mean)/std\n",
        "print(f\"Proportion of shafts with dia in range of 0.2485<d<0.2515 when mean diameter:{0.2508,I(0.2508,0.0005,0.2485,0.2515)}\")\n",
        "print(f\"Proportion of shafts with dia in range of 0.2485<d<0.2515 when mean diameter:{0.2500,I(0.2500,0.0005,0.2485,0.2515)}\")"
      ]
    },
    {
      "cell_type": "markdown",
      "metadata": {
        "id": "tnvvizQhzRqv"
      },
      "source": [
        "#### Within the range of 0.2485<d<0.2515 A manufacturing process with mean of 0.25 gives maximum proportion of required shafts, there by reducing amount of scrap and reprocessing time.\n",
        "\n",
        "#### When compared to any other manufacturing process whose mean deviates from that of 0.25 less proportion of required shafts are obtained. The more the manufucaturing process deviaties from 0.25, lesser will be the proportion of reqired safts obtained.\n",
        "\n",
        "#### Mathematically, in a given range 0.2485<d<0.2515 , if there are two noraml distributrions (manufacturing processes) with same standard deviation,more area will be covered by the distribution whose mean is closer to mean of the interval i.e 0.25"
      ]
    },
    {
      "cell_type": "code",
      "source": [],
      "metadata": {
        "id": "edRiGMqBzWvi"
      },
      "execution_count": 32,
      "outputs": []
    }
  ],
  "metadata": {
    "kernelspec": {
      "display_name": "Python 3",
      "language": "python",
      "name": "python3"
    },
    "language_info": {
      "codemirror_mode": {
        "name": "ipython",
        "version": 3
      },
      "file_extension": ".py",
      "mimetype": "text/x-python",
      "name": "python",
      "nbconvert_exporter": "python",
      "pygments_lexer": "ipython3",
      "version": "3.7.6"
    },
    "colab": {
      "provenance": []
    }
  },
  "nbformat": 4,
  "nbformat_minor": 0
}